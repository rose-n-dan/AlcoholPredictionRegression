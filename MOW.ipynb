{
  "nbformat": 4,
  "nbformat_minor": 0,
  "metadata": {
    "kernelspec": {
      "display_name": "R",
      "language": "R",
      "name": "ir"
    },
    "language_info": {
      "codemirror_mode": "r",
      "file_extension": ".r",
      "mimetype": "text/x-r-source",
      "name": "R",
      "pygments_lexer": "r",
      "version": "3.3.1"
    },
    "colab": {
      "name": "MOW.ipynb",
      "provenance": [],
      "collapsed_sections": [],
      "toc_visible": true,
      "include_colab_link": true
    }
  },
  "cells": [
    {
      "cell_type": "markdown",
      "metadata": {
        "id": "view-in-github",
        "colab_type": "text"
      },
      "source": [
        "<a href=\"https://colab.research.google.com/github/rose-n-dan/AlcoholPredictionRegression/blob/master/MOW.ipynb\" target=\"_parent\"><img src=\"https://colab.research.google.com/assets/colab-badge.svg\" alt=\"Open In Colab\"/></a>"
      ]
    },
    {
      "cell_type": "markdown",
      "metadata": {
        "id": "9pzxS9119XFt",
        "colab_type": "text"
      },
      "source": [
        "# Wczytanie bibliotek"
      ]
    },
    {
      "cell_type": "code",
      "metadata": {
        "id": "hDehd4kfxNEc",
        "colab_type": "code",
        "outputId": "ced47ff6-c0ca-4ae6-fc84-95d85b13547c",
        "colab": {
          "base_uri": "https://localhost:8080/",
          "height": 714
        }
      },
      "source": [
        "library(ggplot2)\n",
        "library(plyr)\n",
        "library(dplyr)\n",
        "\n",
        "install.packages(\"devtools\")\n",
        "library(devtools)\n",
        "\n",
        "install.packages(\"gridExtra\")\n",
        "library(gridExtra)\n",
        "\n",
        "install.packages(\"alluvial\")\n",
        "library(alluvial)\n",
        "\n",
        "install.packages(\"extrafont\")\n",
        "library(extrafont)\n",
        "\n",
        "install.packages(\"varhandle\")\n",
        "library(varhandle)\n",
        "\n",
        "install.packages(\"caret\")\n",
        "library(caret)\n",
        "\n",
        "devtools::install_github(\"mrdwab/splitstackshape\", ref = \"v2.0\")\n",
        "install.packages(\"splitstackshape\")\n",
        "\n",
        "### GLMNET LIBS ###\n",
        "library(tidyverse)\n",
        "\n",
        "library(broom)\n",
        "\n",
        "install.packages(\"glmnet\")\n",
        "library(glmnet)\n",
        "###################\n",
        "\n",
        "### SVM LIBS ###\n",
        "install.packages(\"e1071\")\n",
        "library(e1071)\n",
        "################"
      ],
      "execution_count": 3,
      "outputs": [
        {
          "output_type": "stream",
          "text": [
            "Installing package into ‘/usr/local/lib/R/site-library’\n",
            "(as ‘lib’ is unspecified)\n",
            "\n",
            "Installing package into ‘/usr/local/lib/R/site-library’\n",
            "(as ‘lib’ is unspecified)\n",
            "\n",
            "Installing package into ‘/usr/local/lib/R/site-library’\n",
            "(as ‘lib’ is unspecified)\n",
            "\n",
            "Installing package into ‘/usr/local/lib/R/site-library’\n",
            "(as ‘lib’ is unspecified)\n",
            "\n",
            "Installing package into ‘/usr/local/lib/R/site-library’\n",
            "(as ‘lib’ is unspecified)\n",
            "\n",
            "Installing package into ‘/usr/local/lib/R/site-library’\n",
            "(as ‘lib’ is unspecified)\n",
            "\n",
            "Downloading GitHub repo mrdwab/splitstackshape@v2.0\n",
            "\n"
          ],
          "name": "stderr"
        },
        {
          "output_type": "stream",
          "text": [
            "\n",
            "\u001b[32m✔\u001b[39m  \u001b[90mchecking for file ‘/tmp/RtmpEKIAk6/remotes7d29e3656b/mrdwab-splitstackshape-9d41835/DESCRIPTION’\u001b[39m\u001b[36m\u001b[39m\n",
            "\u001b[90m─\u001b[39m\u001b[90m  \u001b[39m\u001b[90mpreparing ‘splitstackshape’:\u001b[39m\u001b[36m\u001b[39m\n",
            "\u001b[32m✔\u001b[39m  \u001b[90mchecking DESCRIPTION meta-information\u001b[39m\u001b[36m\u001b[39m\n",
            "\u001b[90m─\u001b[39m\u001b[90m  \u001b[39m\u001b[90mchecking for LF line-endings in source and make files and shell scripts\u001b[39m\u001b[36m\u001b[39m\n",
            "\u001b[90m─\u001b[39m\u001b[90m  \u001b[39m\u001b[90mchecking for empty or unneeded directories\u001b[39m\u001b[36m\u001b[39m\n",
            "\u001b[90m─\u001b[39m\u001b[90m  \u001b[39m\u001b[90mlooking to see if a ‘data/datalist’ file should be added\u001b[39m\u001b[36m\u001b[39m\n",
            "\u001b[90m─\u001b[39m\u001b[90m  \u001b[39m\u001b[90mbuilding ‘splitstackshape_2.0.0000.tar.gz’\u001b[39m\u001b[36m\u001b[39m\n",
            "   \n"
          ],
          "name": "stdout"
        },
        {
          "output_type": "stream",
          "text": [
            "Installing package into ‘/usr/local/lib/R/site-library’\n",
            "(as ‘lib’ is unspecified)\n",
            "\n",
            "Installing package into ‘/usr/local/lib/R/site-library’\n",
            "(as ‘lib’ is unspecified)\n",
            "\n",
            "Installing package into ‘/usr/local/lib/R/site-library’\n",
            "(as ‘lib’ is unspecified)\n",
            "\n",
            "Installing package into ‘/usr/local/lib/R/site-library’\n",
            "(as ‘lib’ is unspecified)\n",
            "\n"
          ],
          "name": "stderr"
        }
      ]
    },
    {
      "cell_type": "markdown",
      "metadata": {
        "id": "uTbU2ip33dPo",
        "colab_type": "text"
      },
      "source": [
        "# Wczytanie danych"
      ]
    },
    {
      "cell_type": "markdown",
      "metadata": {
        "id": "9qRLG-NbtTb4",
        "colab_type": "text"
      },
      "source": [
        "Analiza przeprowadzona zostanie na zbiorze danych udostępnionym na witrynie [kaggle](https://www.kaggle.com/uciml/student-alcohol-consumption). Dane\n",
        "ze zbioru zostały zebrane za pomocą ankiet wypełnianych przez uczniów kursów matematyki\n",
        "oraz języka portugalskiego w szkole średniej. Są podzielone według kursu, na którego uczniowie\n",
        "uczęszczali, i zawierają 30 kolumn, które reprezentują atrybuty informujące o płci, wynikach\n",
        "w nauce, statusie społecznym rodziców, aktywnościach czy relacjach z rówieśnikami każdego z\n",
        "ankietowanych."
      ]
    },
    {
      "cell_type": "code",
      "metadata": {
        "id": "oia_yxjsyKja",
        "colab_type": "code",
        "colab": {}
      },
      "source": [
        "d_mat = read.table(\"student-mat.csv\", sep=\",\", header=TRUE)\n",
        "d_por = read.table(\"student-por.csv\", sep=\",\", header=TRUE)"
      ],
      "execution_count": 0,
      "outputs": []
    },
    {
      "cell_type": "markdown",
      "metadata": {
        "id": "DIZPOaJfdXzJ",
        "colab_type": "text"
      },
      "source": [
        "# Przygotowanie danych"
      ]
    },
    {
      "cell_type": "markdown",
      "metadata": {
        "id": "iSKtTmcStF0y",
        "colab_type": "text"
      },
      "source": [
        "Wstępne przetwarzanie atrybutów będzie odbywać się będzie przed dostarczeniem danych\n",
        "do modelu regresji wyznaczającej przewidywane spożycie alkoholu. Ponadto, niewykluczone, że\n",
        "niezbędnym będzie również ograniczenie liczby wykorzystywanych atrybutów poprzez scalenie."
      ]
    },
    {
      "cell_type": "markdown",
      "metadata": {
        "id": "F6UfDysWj7FM",
        "colab_type": "text"
      },
      "source": [
        "## Scalenie zbiorów danych"
      ]
    },
    {
      "cell_type": "markdown",
      "metadata": {
        "id": "R4iKHswOkg0-",
        "colab_type": "text"
      },
      "source": [
        "Scalono zbiory danych uczniów z języka portugalskiego oraz matematyki. Dodatkowo scalono kolumny `G1`, `G2` i `G3` (reprezentujące oceny z przedmiotu w kolejnych trymestrach) jedną kolumną `avggrades` reprezentującą średnią z trzech trymestrów."
      ]
    },
    {
      "cell_type": "code",
      "metadata": {
        "id": "qpDVkcP6B4g9",
        "colab_type": "code",
        "outputId": "8740b6bd-ff19-4025-e6e4-245b97a2128f",
        "colab": {
          "base_uri": "https://localhost:8080/",
          "height": 289
        }
      },
      "source": [
        "data <- rbind(d_mat, d_por)\n",
        "\n",
        "data$avggrades = rowMeans(cbind(data$G1, data$G2, data$G3))\n",
        "data <- data[,-(31:33)]\n",
        "\n",
        "print(head(data, n=3))"
      ],
      "execution_count": 5,
      "outputs": [
        {
          "output_type": "stream",
          "text": [
            "  school sex age address famsize Pstatus Medu Fedu    Mjob    Fjob reason\n",
            "1     GP   F  18       U     GT3       A    4    4 at_home teacher course\n",
            "2     GP   F  17       U     GT3       T    1    1 at_home   other course\n",
            "3     GP   F  15       U     LE3       T    1    1 at_home   other  other\n",
            "  guardian traveltime studytime failures schoolsup famsup paid activities\n",
            "1   mother          2         2        0       yes     no   no         no\n",
            "2   father          1         2        0        no    yes   no         no\n",
            "3   mother          1         2        3       yes     no  yes         no\n",
            "  nursery higher internet romantic famrel freetime goout Dalc Walc health\n",
            "1     yes    yes       no       no      4        3     4    1    1      3\n",
            "2      no    yes      yes       no      5        3     3    1    1      3\n",
            "3     yes    yes      yes       no      4        3     2    2    3      3\n",
            "  absences avggrades\n",
            "1        6  5.666667\n",
            "2        4  5.333333\n",
            "3       10  8.333333\n"
          ],
          "name": "stdout"
        }
      ]
    },
    {
      "cell_type": "markdown",
      "metadata": {
        "id": "1GNE3rzydf-B",
        "colab_type": "text"
      },
      "source": [
        "## Przetworzenie typów danych"
      ]
    },
    {
      "cell_type": "markdown",
      "metadata": {
        "id": "MaQ0YrQOa-BT",
        "colab_type": "text"
      },
      "source": [
        "Zbiór danych zawiera zarówno atrybuty typu liczbowego, jak i słownikowego. Z uwagi na\n",
        "charakter parametrów przyjmowanych przez wybrane algorytmy regresji, badania przeprowadzone\n",
        "muszą zostać na zbiorach danych o numerycznych typach atrybutów, dlatego niezbędnym jest\n",
        "przetworzenie zbioru na wartości numeryczne.\n"
      ]
    },
    {
      "cell_type": "code",
      "metadata": {
        "id": "sB2Hqg555_Pu",
        "colab_type": "code",
        "colab": {}
      },
      "source": [
        "data <- unfactor(data)\n",
        "\n",
        "schoolUp <- c(\"GP\" = 0, \"MS\" = 1)\n",
        "sexUp <- c(\"F\" = 0, \"M\" = 1)\n",
        "addressUp <- c(\"R\" = 0, \"U\" = 1)\n",
        "famsizeUp <- c(\"LE3\" = 0, \"GT3\" = 1)\n",
        "PstatusUp <- c(\"A\" = 0, \"T\" = 1)\n",
        "\n",
        "schoolsupUp <- c(\"no\" = 0, \"yes\" = 1)\n",
        "famsupUp <- c(\"no\" = 0, \"yes\" = 1)\n",
        "paidUp <- c(\"no\" = 0, \"yes\" = 1)\n",
        "activitiesUp <- c(\"no\" = 0, \"yes\" = 1)\n",
        "nurseryUp <- c(\"no\" = 0, \"yes\" = 1)\n",
        "higherUp <- c(\"no\" = 0, \"yes\" = 1)\n",
        "internetUp <- c(\"no\" = 0, \"yes\" = 1)\n",
        "romanticUp <- c(\"no\" = 0, \"yes\" = 1)\n",
        "\n",
        "data$school <- schoolUp[data$school]\n",
        "data$sex <- sexUp[data$sex]\n",
        "data$address <- addressUp[data$address]\n",
        "data$famsize <- famsizeUp[data$famsize]\n",
        "data$Pstatus <- PstatusUp[data$Pstatus]\n",
        "data$schoolsup <- schoolsupUp[data$schoolsup]\n",
        "data$famsup <- famsupUp[data$famsup]\n",
        "data$paid <- paidUp[data$paid]\n",
        "data$activities <- activitiesUp[data$activities]\n",
        "data$nursery <- nurseryUp[data$nursery]\n",
        "data$higher <- higherUp[data$higher]\n",
        "data$internet <- internetUp[data$internet]\n",
        "data$romantic <- romanticUp[data$romantic]"
      ],
      "execution_count": 0,
      "outputs": []
    },
    {
      "cell_type": "markdown",
      "metadata": {
        "id": "zW-tsiUtdm83",
        "colab_type": "text"
      },
      "source": [
        "## Rozbicie kolumn"
      ]
    },
    {
      "cell_type": "markdown",
      "metadata": {
        "id": "O88ZBiA6djXo",
        "colab_type": "text"
      },
      "source": [
        "W przypadku parametrów słownikowych o liczbie możliwych wartości `n > 2` wykonano zamianę ich na `n` parametrów typu binarnego."
      ]
    },
    {
      "cell_type": "code",
      "metadata": {
        "id": "KzVaa6gOSilx",
        "colab_type": "code",
        "colab": {}
      },
      "source": [
        "## Split up the Fjob column\n",
        "data = splitstackshape::concat.split.expanded(data, \"Fjob\", \"-\", type = \"character\", \n",
        "                      fill = 0, drop = TRUE)\n",
        "\n",
        "## Split up the Mjob column\n",
        "data = splitstackshape::concat.split.expanded(data, \"Mjob\", \"-\", type = \"character\", \n",
        "                      fill = 0, drop = TRUE)\n",
        "\n",
        "## Split up the reason column\n",
        "data = splitstackshape::concat.split.expanded(data, \"reason\", \"-\", type = \"character\", \n",
        "                      fill = 0, drop = TRUE)\n",
        "\n",
        "## Split up the guardian column\n",
        "data = splitstackshape::concat.split.expanded(data, \"guardian\", \"-\", type = \"character\", \n",
        "                      fill = 0, drop = TRUE)\n",
        "                      "
      ],
      "execution_count": 0,
      "outputs": []
    },
    {
      "cell_type": "markdown",
      "metadata": {
        "id": "uBpvfOOP3jQN",
        "colab_type": "text"
      },
      "source": [
        "## Sprawdzenie kompletności danych"
      ]
    },
    {
      "cell_type": "markdown",
      "metadata": {
        "id": "FyrnKKOhd4pi",
        "colab_type": "text"
      },
      "source": [
        "Wyświetlono rozmiar niekomplentych danych."
      ]
    },
    {
      "cell_type": "code",
      "metadata": {
        "id": "wXigEpBi2o7M",
        "colab_type": "code",
        "outputId": "7cefdc3b-3ed2-4367-b908-5291a640ee0d",
        "colab": {
          "base_uri": "https://localhost:8080/",
          "height": 34
        }
      },
      "source": [
        "missing = data[!complete.cases(data),]\n",
        "\n",
        "dim(missing)"
      ],
      "execution_count": 8,
      "outputs": [
        {
          "output_type": "display_data",
          "data": {
            "text/plain": [
              "[1]  0 44"
            ],
            "text/latex": "\\begin{enumerate*}\n\\item 0\n\\item 44\n\\end{enumerate*}\n",
            "text/markdown": "1. 0\n2. 44\n\n\n",
            "text/html": [
              "<style>\n",
              ".list-inline {list-style: none; margin:0; padding: 0}\n",
              ".list-inline>li {display: inline-block}\n",
              ".list-inline>li:not(:last-child)::after {content: \"\\00b7\"; padding: 0 .5ex}\n",
              "</style>\n",
              "<ol class=list-inline><li>0</li><li>44</li></ol>\n"
            ]
          },
          "metadata": {
            "tags": []
          }
        }
      ]
    },
    {
      "cell_type": "markdown",
      "metadata": {
        "id": "DY4vXn7_9QR8",
        "colab_type": "text"
      },
      "source": [
        "Wszystkie dane są kompletne."
      ]
    },
    {
      "cell_type": "markdown",
      "metadata": {
        "id": "ww9KsfiWhfzf",
        "colab_type": "text"
      },
      "source": [
        "## Podział danych"
      ]
    },
    {
      "cell_type": "markdown",
      "metadata": {
        "id": "H4Ay2LdWDNJv",
        "colab_type": "text"
      },
      "source": [
        "Dane podzielono na dwa zbiory reprezentujące dwa osobne zadania, czyli prognoza:\n",
        "\n",
        "*   spożycia w dni powszednie\n",
        "*   spożycia w dni weekendy\n",
        "\n",
        "Każdy z nich zawiera zestaw zmiennych objaśniających. Ostatnią kolumną zbioru danych jest zmienna prognozowana.\n",
        "Żadna ze zmiennych prognozowanych w którymkolwiek z zadań nie należy do zmiennych objaśniających w innym zadaniu. \n",
        "\n"
      ]
    },
    {
      "cell_type": "code",
      "metadata": {
        "id": "2LGxjuYcGr9j",
        "colab_type": "code",
        "outputId": "83c43c6d-a31e-43bb-8420-21b7ea52039f",
        "colab": {
          "base_uri": "https://localhost:8080/",
          "height": 782
        }
      },
      "source": [
        "str(data)"
      ],
      "execution_count": 9,
      "outputs": [
        {
          "output_type": "stream",
          "text": [
            "'data.frame':\t1044 obs. of  44 variables:\n",
            " $ school           : num  0 0 0 0 0 0 0 0 0 0 ...\n",
            " $ sex              : num  0 0 0 0 0 1 1 0 1 1 ...\n",
            " $ age              : int  18 17 15 15 16 16 16 17 15 15 ...\n",
            " $ address          : num  1 1 1 1 1 1 1 1 1 1 ...\n",
            " $ famsize          : num  1 1 0 1 1 0 0 1 0 1 ...\n",
            " $ Pstatus          : num  0 1 1 1 1 1 1 0 0 1 ...\n",
            " $ Medu             : int  4 1 1 4 3 4 2 4 3 3 ...\n",
            " $ Fedu             : int  4 1 1 2 3 3 2 4 2 4 ...\n",
            " $ traveltime       : int  2 1 1 1 1 1 1 2 1 1 ...\n",
            " $ studytime        : int  2 2 2 3 2 2 2 2 2 2 ...\n",
            " $ failures         : int  0 0 3 0 0 0 0 0 0 0 ...\n",
            " $ schoolsup        : num  1 0 1 0 0 0 0 1 0 0 ...\n",
            " $ famsup           : num  0 1 0 1 1 1 0 1 1 1 ...\n",
            " $ paid             : num  0 0 1 1 1 1 0 0 1 1 ...\n",
            " $ activities       : num  0 0 0 1 0 1 0 0 0 1 ...\n",
            " $ nursery          : num  1 0 1 1 1 1 1 1 1 1 ...\n",
            " $ higher           : num  1 1 1 1 1 1 1 1 1 1 ...\n",
            " $ internet         : num  0 1 1 1 0 1 1 0 1 1 ...\n",
            " $ romantic         : num  0 0 0 1 0 0 0 0 0 0 ...\n",
            " $ famrel           : int  4 5 4 3 4 5 4 4 4 5 ...\n",
            " $ freetime         : int  3 3 3 2 3 4 4 1 2 5 ...\n",
            " $ goout            : int  4 3 2 2 2 2 4 4 2 1 ...\n",
            " $ Dalc             : int  1 1 2 1 1 1 1 1 1 1 ...\n",
            " $ Walc             : int  1 1 3 1 2 2 1 1 1 1 ...\n",
            " $ health           : int  3 3 3 5 5 5 3 1 1 5 ...\n",
            " $ absences         : int  6 4 10 2 4 10 0 6 0 0 ...\n",
            " $ avggrades        : num  5.67 5.33 8.33 14.67 8.67 ...\n",
            " $ Fjob_at_home     : num  0 0 0 0 0 0 0 0 0 0 ...\n",
            " $ Fjob_health      : num  0 0 0 0 0 0 0 0 0 0 ...\n",
            " $ Fjob_other       : num  0 1 1 0 1 1 1 0 1 1 ...\n",
            " $ Fjob_services    : num  0 0 0 1 0 0 0 0 0 0 ...\n",
            " $ Fjob_teacher     : num  1 0 0 0 0 0 0 1 0 0 ...\n",
            " $ Mjob_at_home     : num  1 1 1 0 0 0 0 0 0 0 ...\n",
            " $ Mjob_health      : num  0 0 0 1 0 0 0 0 0 0 ...\n",
            " $ Mjob_other       : num  0 0 0 0 1 0 1 1 0 1 ...\n",
            " $ Mjob_services    : num  0 0 0 0 0 1 0 0 1 0 ...\n",
            " $ Mjob_teacher     : num  0 0 0 0 0 0 0 0 0 0 ...\n",
            " $ reason_course    : num  1 1 0 0 0 0 0 0 0 0 ...\n",
            " $ reason_home      : num  0 0 0 1 1 0 1 1 1 1 ...\n",
            " $ reason_other     : num  0 0 1 0 0 0 0 0 0 0 ...\n",
            " $ reason_reputation: num  0 0 0 0 0 1 0 0 0 0 ...\n",
            " $ guardian_father  : num  0 1 0 0 1 0 0 0 0 0 ...\n",
            " $ guardian_mother  : num  1 0 1 1 0 1 1 1 1 1 ...\n",
            " $ guardian_other   : num  0 0 0 0 0 0 0 0 0 0 ...\n"
          ],
          "name": "stdout"
        }
      ]
    },
    {
      "cell_type": "code",
      "metadata": {
        "id": "vDNUcMBFCxhP",
        "colab_type": "code",
        "outputId": "4fa103cb-e2d7-4455-8b43-341a1e2d3672",
        "colab": {
          "base_uri": "https://localhost:8080/",
          "height": 161
        }
      },
      "source": [
        "# change columns order so input data is separated from output\n",
        "data_wdays <- subset(data, select=c(1:22,25:44,23))\n",
        "head(data_wdays, n=3)"
      ],
      "execution_count": 10,
      "outputs": [
        {
          "output_type": "display_data",
          "data": {
            "text/plain": [
              "  school sex age address famsize Pstatus Medu Fedu traveltime studytime ⋯\n",
              "1 0      0   18  1       1       0       4    4    2          2         ⋯\n",
              "2 0      0   17  1       1       1       1    1    1          2         ⋯\n",
              "3 0      0   15  1       0       1       1    1    1          2         ⋯\n",
              "  Mjob_services Mjob_teacher reason_course reason_home reason_other\n",
              "1 0             0            1             0           0           \n",
              "2 0             0            1             0           0           \n",
              "3 0             0            0             0           1           \n",
              "  reason_reputation guardian_father guardian_mother guardian_other Dalc\n",
              "1 0                 0               1               0              1   \n",
              "2 0                 1               0               0              1   \n",
              "3 0                 0               1               0              2   "
            ],
            "text/latex": "A data.frame: 3 × 43\n\\begin{tabular}{r|lllllllllllllllllllll}\n  & school & sex & age & address & famsize & Pstatus & Medu & Fedu & traveltime & studytime & ⋯ & Mjob\\_services & Mjob\\_teacher & reason\\_course & reason\\_home & reason\\_other & reason\\_reputation & guardian\\_father & guardian\\_mother & guardian\\_other & Dalc\\\\\n  & <dbl> & <dbl> & <int> & <dbl> & <dbl> & <dbl> & <int> & <int> & <int> & <int> & ⋯ & <dbl> & <dbl> & <dbl> & <dbl> & <dbl> & <dbl> & <dbl> & <dbl> & <dbl> & <int>\\\\\n\\hline\n\t1 & 0 & 0 & 18 & 1 & 1 & 0 & 4 & 4 & 2 & 2 & ⋯ & 0 & 0 & 1 & 0 & 0 & 0 & 0 & 1 & 0 & 1\\\\\n\t2 & 0 & 0 & 17 & 1 & 1 & 1 & 1 & 1 & 1 & 2 & ⋯ & 0 & 0 & 1 & 0 & 0 & 0 & 1 & 0 & 0 & 1\\\\\n\t3 & 0 & 0 & 15 & 1 & 0 & 1 & 1 & 1 & 1 & 2 & ⋯ & 0 & 0 & 0 & 0 & 1 & 0 & 0 & 1 & 0 & 2\\\\\n\\end{tabular}\n",
            "text/markdown": "\nA data.frame: 3 × 43\n\n| <!--/--> | school &lt;dbl&gt; | sex &lt;dbl&gt; | age &lt;int&gt; | address &lt;dbl&gt; | famsize &lt;dbl&gt; | Pstatus &lt;dbl&gt; | Medu &lt;int&gt; | Fedu &lt;int&gt; | traveltime &lt;int&gt; | studytime &lt;int&gt; | ⋯ ⋯ | Mjob_services &lt;dbl&gt; | Mjob_teacher &lt;dbl&gt; | reason_course &lt;dbl&gt; | reason_home &lt;dbl&gt; | reason_other &lt;dbl&gt; | reason_reputation &lt;dbl&gt; | guardian_father &lt;dbl&gt; | guardian_mother &lt;dbl&gt; | guardian_other &lt;dbl&gt; | Dalc &lt;int&gt; |\n|---|---|---|---|---|---|---|---|---|---|---|---|---|---|---|---|---|---|---|---|---|---|\n| 1 | 0 | 0 | 18 | 1 | 1 | 0 | 4 | 4 | 2 | 2 | ⋯ | 0 | 0 | 1 | 0 | 0 | 0 | 0 | 1 | 0 | 1 |\n| 2 | 0 | 0 | 17 | 1 | 1 | 1 | 1 | 1 | 1 | 2 | ⋯ | 0 | 0 | 1 | 0 | 0 | 0 | 1 | 0 | 0 | 1 |\n| 3 | 0 | 0 | 15 | 1 | 0 | 1 | 1 | 1 | 1 | 2 | ⋯ | 0 | 0 | 0 | 0 | 1 | 0 | 0 | 1 | 0 | 2 |\n\n",
            "text/html": [
              "<table>\n",
              "<caption>A data.frame: 3 × 43</caption>\n",
              "<thead>\n",
              "\t<tr><th></th><th scope=col>school</th><th scope=col>sex</th><th scope=col>age</th><th scope=col>address</th><th scope=col>famsize</th><th scope=col>Pstatus</th><th scope=col>Medu</th><th scope=col>Fedu</th><th scope=col>traveltime</th><th scope=col>studytime</th><th scope=col>⋯</th><th scope=col>Mjob_services</th><th scope=col>Mjob_teacher</th><th scope=col>reason_course</th><th scope=col>reason_home</th><th scope=col>reason_other</th><th scope=col>reason_reputation</th><th scope=col>guardian_father</th><th scope=col>guardian_mother</th><th scope=col>guardian_other</th><th scope=col>Dalc</th></tr>\n",
              "\t<tr><th></th><th scope=col>&lt;dbl&gt;</th><th scope=col>&lt;dbl&gt;</th><th scope=col>&lt;int&gt;</th><th scope=col>&lt;dbl&gt;</th><th scope=col>&lt;dbl&gt;</th><th scope=col>&lt;dbl&gt;</th><th scope=col>&lt;int&gt;</th><th scope=col>&lt;int&gt;</th><th scope=col>&lt;int&gt;</th><th scope=col>&lt;int&gt;</th><th scope=col>⋯</th><th scope=col>&lt;dbl&gt;</th><th scope=col>&lt;dbl&gt;</th><th scope=col>&lt;dbl&gt;</th><th scope=col>&lt;dbl&gt;</th><th scope=col>&lt;dbl&gt;</th><th scope=col>&lt;dbl&gt;</th><th scope=col>&lt;dbl&gt;</th><th scope=col>&lt;dbl&gt;</th><th scope=col>&lt;dbl&gt;</th><th scope=col>&lt;int&gt;</th></tr>\n",
              "</thead>\n",
              "<tbody>\n",
              "\t<tr><th scope=row>1</th><td>0</td><td>0</td><td>18</td><td>1</td><td>1</td><td>0</td><td>4</td><td>4</td><td>2</td><td>2</td><td>⋯</td><td>0</td><td>0</td><td>1</td><td>0</td><td>0</td><td>0</td><td>0</td><td>1</td><td>0</td><td>1</td></tr>\n",
              "\t<tr><th scope=row>2</th><td>0</td><td>0</td><td>17</td><td>1</td><td>1</td><td>1</td><td>1</td><td>1</td><td>1</td><td>2</td><td>⋯</td><td>0</td><td>0</td><td>1</td><td>0</td><td>0</td><td>0</td><td>1</td><td>0</td><td>0</td><td>1</td></tr>\n",
              "\t<tr><th scope=row>3</th><td>0</td><td>0</td><td>15</td><td>1</td><td>0</td><td>1</td><td>1</td><td>1</td><td>1</td><td>2</td><td>⋯</td><td>0</td><td>0</td><td>0</td><td>0</td><td>1</td><td>0</td><td>0</td><td>1</td><td>0</td><td>2</td></tr>\n",
              "</tbody>\n",
              "</table>\n"
            ]
          },
          "metadata": {
            "tags": []
          }
        }
      ]
    },
    {
      "cell_type": "code",
      "metadata": {
        "id": "s75u5gMVwDcg",
        "colab_type": "code",
        "outputId": "d513c97a-8905-4d22-fce3-ea44013f71bf",
        "colab": {
          "base_uri": "https://localhost:8080/",
          "height": 161
        }
      },
      "source": [
        "# change columns order so input data is separated from output\n",
        "data_wend <- subset(data, select=c(1:22,25:44,24))\n",
        "head(data_wend, n=3)"
      ],
      "execution_count": 11,
      "outputs": [
        {
          "output_type": "display_data",
          "data": {
            "text/plain": [
              "  school sex age address famsize Pstatus Medu Fedu traveltime studytime ⋯\n",
              "1 0      0   18  1       1       0       4    4    2          2         ⋯\n",
              "2 0      0   17  1       1       1       1    1    1          2         ⋯\n",
              "3 0      0   15  1       0       1       1    1    1          2         ⋯\n",
              "  Mjob_services Mjob_teacher reason_course reason_home reason_other\n",
              "1 0             0            1             0           0           \n",
              "2 0             0            1             0           0           \n",
              "3 0             0            0             0           1           \n",
              "  reason_reputation guardian_father guardian_mother guardian_other Walc\n",
              "1 0                 0               1               0              1   \n",
              "2 0                 1               0               0              1   \n",
              "3 0                 0               1               0              3   "
            ],
            "text/latex": "A data.frame: 3 × 43\n\\begin{tabular}{r|lllllllllllllllllllll}\n  & school & sex & age & address & famsize & Pstatus & Medu & Fedu & traveltime & studytime & ⋯ & Mjob\\_services & Mjob\\_teacher & reason\\_course & reason\\_home & reason\\_other & reason\\_reputation & guardian\\_father & guardian\\_mother & guardian\\_other & Walc\\\\\n  & <dbl> & <dbl> & <int> & <dbl> & <dbl> & <dbl> & <int> & <int> & <int> & <int> & ⋯ & <dbl> & <dbl> & <dbl> & <dbl> & <dbl> & <dbl> & <dbl> & <dbl> & <dbl> & <int>\\\\\n\\hline\n\t1 & 0 & 0 & 18 & 1 & 1 & 0 & 4 & 4 & 2 & 2 & ⋯ & 0 & 0 & 1 & 0 & 0 & 0 & 0 & 1 & 0 & 1\\\\\n\t2 & 0 & 0 & 17 & 1 & 1 & 1 & 1 & 1 & 1 & 2 & ⋯ & 0 & 0 & 1 & 0 & 0 & 0 & 1 & 0 & 0 & 1\\\\\n\t3 & 0 & 0 & 15 & 1 & 0 & 1 & 1 & 1 & 1 & 2 & ⋯ & 0 & 0 & 0 & 0 & 1 & 0 & 0 & 1 & 0 & 3\\\\\n\\end{tabular}\n",
            "text/markdown": "\nA data.frame: 3 × 43\n\n| <!--/--> | school &lt;dbl&gt; | sex &lt;dbl&gt; | age &lt;int&gt; | address &lt;dbl&gt; | famsize &lt;dbl&gt; | Pstatus &lt;dbl&gt; | Medu &lt;int&gt; | Fedu &lt;int&gt; | traveltime &lt;int&gt; | studytime &lt;int&gt; | ⋯ ⋯ | Mjob_services &lt;dbl&gt; | Mjob_teacher &lt;dbl&gt; | reason_course &lt;dbl&gt; | reason_home &lt;dbl&gt; | reason_other &lt;dbl&gt; | reason_reputation &lt;dbl&gt; | guardian_father &lt;dbl&gt; | guardian_mother &lt;dbl&gt; | guardian_other &lt;dbl&gt; | Walc &lt;int&gt; |\n|---|---|---|---|---|---|---|---|---|---|---|---|---|---|---|---|---|---|---|---|---|---|\n| 1 | 0 | 0 | 18 | 1 | 1 | 0 | 4 | 4 | 2 | 2 | ⋯ | 0 | 0 | 1 | 0 | 0 | 0 | 0 | 1 | 0 | 1 |\n| 2 | 0 | 0 | 17 | 1 | 1 | 1 | 1 | 1 | 1 | 2 | ⋯ | 0 | 0 | 1 | 0 | 0 | 0 | 1 | 0 | 0 | 1 |\n| 3 | 0 | 0 | 15 | 1 | 0 | 1 | 1 | 1 | 1 | 2 | ⋯ | 0 | 0 | 0 | 0 | 1 | 0 | 0 | 1 | 0 | 3 |\n\n",
            "text/html": [
              "<table>\n",
              "<caption>A data.frame: 3 × 43</caption>\n",
              "<thead>\n",
              "\t<tr><th></th><th scope=col>school</th><th scope=col>sex</th><th scope=col>age</th><th scope=col>address</th><th scope=col>famsize</th><th scope=col>Pstatus</th><th scope=col>Medu</th><th scope=col>Fedu</th><th scope=col>traveltime</th><th scope=col>studytime</th><th scope=col>⋯</th><th scope=col>Mjob_services</th><th scope=col>Mjob_teacher</th><th scope=col>reason_course</th><th scope=col>reason_home</th><th scope=col>reason_other</th><th scope=col>reason_reputation</th><th scope=col>guardian_father</th><th scope=col>guardian_mother</th><th scope=col>guardian_other</th><th scope=col>Walc</th></tr>\n",
              "\t<tr><th></th><th scope=col>&lt;dbl&gt;</th><th scope=col>&lt;dbl&gt;</th><th scope=col>&lt;int&gt;</th><th scope=col>&lt;dbl&gt;</th><th scope=col>&lt;dbl&gt;</th><th scope=col>&lt;dbl&gt;</th><th scope=col>&lt;int&gt;</th><th scope=col>&lt;int&gt;</th><th scope=col>&lt;int&gt;</th><th scope=col>&lt;int&gt;</th><th scope=col>⋯</th><th scope=col>&lt;dbl&gt;</th><th scope=col>&lt;dbl&gt;</th><th scope=col>&lt;dbl&gt;</th><th scope=col>&lt;dbl&gt;</th><th scope=col>&lt;dbl&gt;</th><th scope=col>&lt;dbl&gt;</th><th scope=col>&lt;dbl&gt;</th><th scope=col>&lt;dbl&gt;</th><th scope=col>&lt;dbl&gt;</th><th scope=col>&lt;int&gt;</th></tr>\n",
              "</thead>\n",
              "<tbody>\n",
              "\t<tr><th scope=row>1</th><td>0</td><td>0</td><td>18</td><td>1</td><td>1</td><td>0</td><td>4</td><td>4</td><td>2</td><td>2</td><td>⋯</td><td>0</td><td>0</td><td>1</td><td>0</td><td>0</td><td>0</td><td>0</td><td>1</td><td>0</td><td>1</td></tr>\n",
              "\t<tr><th scope=row>2</th><td>0</td><td>0</td><td>17</td><td>1</td><td>1</td><td>1</td><td>1</td><td>1</td><td>1</td><td>2</td><td>⋯</td><td>0</td><td>0</td><td>1</td><td>0</td><td>0</td><td>0</td><td>1</td><td>0</td><td>0</td><td>1</td></tr>\n",
              "\t<tr><th scope=row>3</th><td>0</td><td>0</td><td>15</td><td>1</td><td>0</td><td>1</td><td>1</td><td>1</td><td>1</td><td>2</td><td>⋯</td><td>0</td><td>0</td><td>0</td><td>0</td><td>1</td><td>0</td><td>0</td><td>1</td><td>0</td><td>3</td></tr>\n",
              "</tbody>\n",
              "</table>\n"
            ]
          },
          "metadata": {
            "tags": []
          }
        }
      ]
    },
    {
      "cell_type": "markdown",
      "metadata": {
        "id": "-31fZPS0_5bh",
        "colab_type": "text"
      },
      "source": [
        "# Modele"
      ]
    },
    {
      "cell_type": "markdown",
      "metadata": {
        "id": "qTmBVMPbtucI",
        "colab_type": "text"
      },
      "source": [
        "Celem projektu jest wnikliwa i szeroko zakrojona analiza działań zbudowanych modeli regresji w zadaniu przewidywania spożycia alkoholu przez studentów. Za pomocą dostępnych w R narzędzi stworzone zostaną odpowiednie modele pozwalające na przewidzenie ilości spożywanego alkoholu na podstawie wartości atrybutów opisujących każdego z uczniów. W wyniku przeprowadzonych eksperymentów stwierdzone zostanie, który ze zbudowanych modeli daje najlepsze wyniki w tak zdefiniowanym problemie.\n",
        "\n",
        "Predykcja przeprowadzona zostanie w dwóch częściach: predykcji spożycia weekendowego oraz tygodniowego (bez\n",
        "weekendu). W każdym z tych zadań dane o spożyciu alkoholu w jakimkolwiek z dwóch trybów nie będą uwzględniane jako dane wejściowe. Na przykład dane o spożyciu w weekend nie będą uwzględniane w budowaniu modelu predykcji spożycia tygodniowego."
      ]
    },
    {
      "cell_type": "markdown",
      "metadata": {
        "id": "UlKD72vIIeai",
        "colab_type": "text"
      },
      "source": [
        "### Definiowanie funkcji pomocniczych\n"
      ]
    },
    {
      "cell_type": "markdown",
      "metadata": {
        "id": "6YQNABV9i7lm",
        "colab_type": "text"
      },
      "source": [
        "Pierwszą z funkcji pomocniczych jest funkcja `rmse` obliczająca pierwiastek błędu średniokwadratowego dla danej predykcji. Średnia kwadratowa błędów ( RMSE ) lub piewiastkiem błędu średniokwadratowego ( MSE ) jest często stosowanym miernikiem różnic między wartościami (próbki lub wartości populacyjnych) przewidywanymi przez model lub estymatora a wartościami obserwowanymi. RMSE reprezentuje pierwiastek kwadratowy z drugiego próbnego momentu różnic między wartościami przewidywanymi a wartościami obserwowanymi lub średnią kwadratową tych różnic."
      ]
    },
    {
      "cell_type": "code",
      "metadata": {
        "id": "9nNZeY46Invl",
        "colab_type": "code",
        "colab": {}
      },
      "source": [
        "rmse <- function(Y, predictedY) {\n",
        "  error <- predictedY - Y\n",
        "\n",
        "  rmse <- sqrt(mean(error^2))\n",
        "\n",
        "  return(rmse)\n",
        "}"
      ],
      "execution_count": 0,
      "outputs": []
    },
    {
      "cell_type": "markdown",
      "metadata": {
        "id": "dJNaw3dQur_E",
        "colab_type": "text"
      },
      "source": [
        "Kolejna z funkcji pomocniczych, 'confusion_matrix', używana jest do generowania macierzy pomyłek dla predykcji poszczególnych modeli. Każdy z wierszy macierzy reprezentuje obiekty z klasami predykowanej, natomiast każda z kolumn - obiekty rzeczywistej klasy. Macierz błędów wykorzystywana jest przede wszystkim w ocenie jakości klasyfikacji binarnej, więc aby zastosowanie macierzy pomyłek do oceny jakości modelu regresji było możliwe, należy najpierw zaokrąglić wynik dostarczany z modelu. Klasa rzeczywista ma pięć dyskretnych wartości, także będzie można określić, czy zaokrąglony wynik został sklasyfikowany poprawnie.\n",
        "\n",
        "Dodatkowo, funkcja, na podstawie wygenerowanej macierzy, wyznacza wskaźniki jakości rozwiązania, jak:\n",
        "* dokładność\n",
        "* czułość\n",
        "* precyzja\n",
        "* specyficzność\n"
      ]
    },
    {
      "cell_type": "code",
      "metadata": {
        "id": "M87D_ElTRPOo",
        "colab_type": "code",
        "colab": {}
      },
      "source": [
        "confusion_matrix <- function(Y, predictedY) {\n",
        "  predictedY <- round(predictedY, digits=0)\n",
        "\n",
        "  predictedY[predictedY < 1] <- 1\n",
        "  predictedY[predictedY > 5] <- 5\n",
        "\n",
        "  confusionMatrix(factor(Y, levels=1:5), factor(predictedY, levels=1:5))\n",
        "}"
      ],
      "execution_count": 0,
      "outputs": []
    },
    {
      "cell_type": "markdown",
      "metadata": {
        "id": "iuW1t28Lvd_v",
        "colab_type": "text"
      },
      "source": [
        "Kolejną funkcją pomocniczą jest funkcja `coefficient_of_determination`, wyznaczająca współczynik determinancji. Współczynnik ten informuje o tym, jaka część wariancji zmiennej objaśnianej w próbie pokrywa się z korelacjami\n",
        "ze zmiennymi zawartymi w modelu. Jest on więc miarą stopnia, w jakim model pasuje do próby. Współczynnik determinacji przyjmuje wartości z przedziału [0;1], a dopasowanie modelu jest tym lepsze, im wartość `R^2`\n",
        "jest bliższa jedności."
      ]
    },
    {
      "cell_type": "code",
      "metadata": {
        "id": "b1-YNodsbf9G",
        "colab_type": "code",
        "colab": {}
      },
      "source": [
        "coefficient_of_determination <- function(Y, predictedY) {\n",
        "  mean <- mean(Y)\n",
        "\n",
        "  numerator <- sum((predictedY - Y) ^ 2)\n",
        "  denominator <- sum((Y - mean) ^ 2)\n",
        "\n",
        "  return(numerator / denominator)\n",
        "}"
      ],
      "execution_count": 0,
      "outputs": []
    },
    {
      "cell_type": "markdown",
      "metadata": {
        "id": "sc16o-jxvemH",
        "colab_type": "text"
      },
      "source": [
        "Ostatnią z funkcji pomocniczych jest funkcja `coefficient_of_variation`. Wyznacza ona współczynnik zmienności resztowej, który informuje o tym, jaką część wartości średniej zmiennej objaśnianej stanowi odchylenie standardowe składnika resztowego, czyli w jakim stopniu na zmienną objaśnianą mają wpływ czynniki losowe."
      ]
    },
    {
      "cell_type": "code",
      "metadata": {
        "id": "J_8rUsy0iG9t",
        "colab_type": "code",
        "colab": {}
      },
      "source": [
        "coefficient_of_variation <- function(Y, predictedY, num_col) {\n",
        "  mean <- mean(Y)\n",
        "\n",
        "  error <- predictedY - Y\n",
        "  deviation <- sqrt(sum(error ^ 2) / (NROW(Y) - num_col - 1))\n",
        "  \n",
        "  return(deviation / mean)\n",
        "}"
      ],
      "execution_count": 0,
      "outputs": []
    },
    {
      "cell_type": "markdown",
      "metadata": {
        "id": "QgUTni7X1Wr4",
        "colab_type": "text"
      },
      "source": [
        "Funkcja `evaluate_model` drukuje na ekran wyniki wszystkich opisanych funkcji pomocniczych."
      ]
    },
    {
      "cell_type": "code",
      "metadata": {
        "id": "hgmf0UAuy7KU",
        "colab_type": "code",
        "colab": {}
      },
      "source": [
        "evaluate_model <- function(Y, predictedY, num_col) {\n",
        "  print(paste0(\"RMSE: \", rmse(Y, predictedY)))\n",
        "  print(confusion_matrix(Y, predictedY))\n",
        "  print(paste0(\"Coefficient of determination: \", coefficient_of_determination(Y, predictedY)))\n",
        "  print(paste0(\"Coefficient of variation: \", coefficient_of_variation(Y, predictedY, num_col)))\n",
        "}"
      ],
      "execution_count": 0,
      "outputs": []
    },
    {
      "cell_type": "markdown",
      "metadata": {
        "id": "nqZIhKEcBj7i",
        "colab_type": "text"
      },
      "source": [
        "### Przewidywanie spożycia w dni powszednie\n",
        "\n"
      ]
    },
    {
      "cell_type": "markdown",
      "metadata": {
        "id": "ARWOuszEBdtH",
        "colab_type": "text"
      },
      "source": [
        "#### Regresja liniowa:"
      ]
    },
    {
      "cell_type": "markdown",
      "metadata": {
        "id": "G1Xr8zsmam7D",
        "colab_type": "text"
      },
      "source": [
        "Regresja liniowa (ang. Linear regression) to metoda oparta o liniowe kombinacje zmiennych i parametrów dopasowujących model do danych, jeden z najpopularniejszych typów regresji. Budowanie modelu regresji liniowej nie wykorzystuje żadnych parametrów.\n"
      ]
    },
    {
      "cell_type": "code",
      "metadata": {
        "id": "VBcBqBHg4VE8",
        "colab_type": "code",
        "outputId": "49bcd0e6-2e80-4a79-e0b1-3dcbaba0ff95",
        "colab": {
          "base_uri": "https://localhost:8080/",
          "height": 1000
        }
      },
      "source": [
        "linear_reg_model_wdays <- lm(Dalc ~ ., data=data_wdays[,1:43])\n",
        "summary(linear_reg_model_wdays)"
      ],
      "execution_count": 17,
      "outputs": [
        {
          "output_type": "display_data",
          "data": {
            "text/plain": [
              "\n",
              "Call:\n",
              "lm(formula = Dalc ~ ., data = data_wdays[, 1:43])\n",
              "\n",
              "Residuals:\n",
              "    Min      1Q  Median      3Q     Max \n",
              "-2.1805 -0.4875 -0.1639  0.2766  3.3756 \n",
              "\n",
              "Coefficients: (4 not defined because of singularities)\n",
              "                   Estimate Std. Error t value Pr(>|t|)    \n",
              "(Intercept)        0.023786   0.546644   0.044  0.96530    \n",
              "school             0.016368   0.068752   0.238  0.81187    \n",
              "sex                0.430517   0.056831   7.575 8.11e-14 ***\n",
              "age                0.061518   0.024120   2.550  0.01091 *  \n",
              "address           -0.110767   0.064337  -1.722  0.08544 .  \n",
              "famsize           -0.140283   0.058046  -2.417  0.01584 *  \n",
              "Pstatus            0.017179   0.083707   0.205  0.83744    \n",
              "Medu               0.062076   0.036529   1.699  0.08956 .  \n",
              "Fedu              -0.019995   0.032568  -0.614  0.53938    \n",
              "traveltime         0.078046   0.038566   2.024  0.04327 *  \n",
              "studytime         -0.063166   0.033494  -1.886  0.05960 .  \n",
              "failures          -0.001700   0.045336  -0.038  0.97009    \n",
              "schoolsup          0.115049   0.084406   1.363  0.17318    \n",
              "famsup             0.054440   0.054821   0.993  0.32093    \n",
              "paid               0.110226   0.064793   1.701  0.08921 .  \n",
              "activities        -0.066469   0.052800  -1.259  0.20837    \n",
              "nursery           -0.151395   0.064530  -2.346  0.01916 *  \n",
              "higher            -0.026521   0.100227  -0.265  0.79137    \n",
              "internet           0.050366   0.068131   0.739  0.45992    \n",
              "romantic           0.066629   0.055130   1.209  0.22711    \n",
              "famrel            -0.119877   0.027726  -4.324 1.69e-05 ***\n",
              "freetime           0.045746   0.027008   1.694  0.09062 .  \n",
              "goout              0.174936   0.023813   7.346 4.21e-13 ***\n",
              "health             0.034152   0.018563   1.840  0.06609 .  \n",
              "absences           0.012427   0.004334   2.867  0.00423 ** \n",
              "avggrades         -0.010474   0.009188  -1.140  0.25458    \n",
              "Fjob_at_home       0.019768   0.157080   0.126  0.89988    \n",
              "Fjob_health        0.176814   0.169090   1.046  0.29596    \n",
              "Fjob_other         0.039698   0.119245   0.333  0.73927    \n",
              "Fjob_services      0.245666   0.121641   2.020  0.04369 *  \n",
              "Fjob_teacher             NA         NA      NA       NA    \n",
              "Mjob_at_home       0.029968   0.119631   0.251  0.80225    \n",
              "Mjob_health       -0.339121   0.121025  -2.802  0.00518 ** \n",
              "Mjob_other        -0.004350   0.102122  -0.043  0.96604    \n",
              "Mjob_services      0.003253   0.097878   0.033  0.97349    \n",
              "Mjob_teacher             NA         NA      NA       NA    \n",
              "reason_course      0.030877   0.069733   0.443  0.65802    \n",
              "reason_home        0.138405   0.075173   1.841  0.06589 .  \n",
              "reason_other       0.390670   0.099648   3.921 9.44e-05 ***\n",
              "reason_reputation        NA         NA      NA       NA    \n",
              "guardian_father    0.004902   0.121868   0.040  0.96792    \n",
              "guardian_mother   -0.141030   0.111157  -1.269  0.20482    \n",
              "guardian_other           NA         NA      NA       NA    \n",
              "---\n",
              "Signif. codes:  0 ‘***’ 0.001 ‘**’ 0.01 ‘*’ 0.05 ‘.’ 0.1 ‘ ’ 1\n",
              "\n",
              "Residual standard error: 0.8064 on 1005 degrees of freedom\n",
              "Multiple R-squared:  0.2462,\tAdjusted R-squared:  0.2177 \n",
              "F-statistic: 8.639 on 38 and 1005 DF,  p-value: < 2.2e-16\n"
            ]
          },
          "metadata": {
            "tags": []
          }
        }
      ]
    },
    {
      "cell_type": "code",
      "metadata": {
        "id": "8Vl-2LWr7DdH",
        "colab_type": "code",
        "outputId": "5df4c702-b289-4575-dbd1-68e251fd7c9b",
        "colab": {
          "base_uri": "https://localhost:8080/",
          "height": 612
        }
      },
      "source": [
        "predictedY <- predict(linear_reg_model_wdays)\n",
        "Y <- data_wdays$Dalc\n",
        "\n",
        "evaluate_model(Y, predictedY, ncol(data_wdays))"
      ],
      "execution_count": 18,
      "outputs": [
        {
          "output_type": "stream",
          "text": [
            "[1] \"RMSE: 0.79117355504761\"\n",
            "Confusion Matrix and Statistics\n",
            "\n",
            "          Reference\n",
            "Prediction   1   2   3   4   5\n",
            "         1 481 243   3   0   0\n",
            "         2  64 126   6   0   0\n",
            "         3  13  52   4   0   0\n",
            "         4   3  21   2   0   0\n",
            "         5   0  20   6   0   0\n",
            "\n",
            "Overall Statistics\n",
            "                                          \n",
            "               Accuracy : 0.5852          \n",
            "                 95% CI : (0.5547, 0.6153)\n",
            "    No Information Rate : 0.5374          \n",
            "    P-Value [Acc > NIR] : 0.001031        \n",
            "                                          \n",
            "                  Kappa : 0.2339          \n",
            "                                          \n",
            " Mcnemar's Test P-Value : NA              \n",
            "\n",
            "Statistics by Class:\n",
            "\n",
            "                     Class: 1 Class: 2 Class: 3 Class: 4 Class: 5\n",
            "Sensitivity            0.8574   0.2727 0.190476       NA       NA\n",
            "Specificity            0.4907   0.8797 0.936461   0.9751   0.9751\n",
            "Pos Pred Value         0.6616   0.6429 0.057971       NA       NA\n",
            "Neg Pred Value         0.7476   0.6038 0.982564       NA       NA\n",
            "Prevalence             0.5374   0.4425 0.020115   0.0000   0.0000\n",
            "Detection Rate         0.4607   0.1207 0.003831   0.0000   0.0000\n",
            "Detection Prevalence   0.6964   0.1877 0.066092   0.0249   0.0249\n",
            "Balanced Accuracy      0.6740   0.5762 0.563469       NA       NA\n",
            "[1] \"Coefficient of determination: 0.753775816172191\"\n",
            "[1] \"Coefficient of variation: 0.541000806079665\"\n"
          ],
          "name": "stdout"
        }
      ]
    },
    {
      "cell_type": "markdown",
      "metadata": {
        "id": "frRq1cOd0kHj",
        "colab_type": "text"
      },
      "source": [
        "#### Regresja logistyczna"
      ]
    },
    {
      "cell_type": "markdown",
      "metadata": {
        "id": "Svv9x9PMas58",
        "colab_type": "text"
      },
      "source": [
        "Regresja logistyczna (ang. Logistic Regression) jest uogólnionym modelem liniowym, w którym używa się funkcji logit jako funkcji wiążącej. Funkcja logit jest logarytmem szansy, jest to metoda bezparametrowa. Wynik predykcji należał będzie do przedziału [0, 1], zostanie więc przeskalowany na przedział [1, 5].\n"
      ]
    },
    {
      "cell_type": "code",
      "metadata": {
        "id": "Qa7rgaOd0m9C",
        "colab_type": "code",
        "outputId": "a87dd1ad-dd80-4e26-be8f-f583019045a1",
        "colab": {
          "base_uri": "https://localhost:8080/",
          "height": 1000
        }
      },
      "source": [
        "logistic_reg_model_wdays <- glm(Dalc ~ ., data=data_wdays[,1:43])\n",
        "summary(logistic_reg_model_wdays)"
      ],
      "execution_count": 19,
      "outputs": [
        {
          "output_type": "display_data",
          "data": {
            "text/plain": [
              "\n",
              "Call:\n",
              "glm(formula = Dalc ~ ., data = data_wdays[, 1:43])\n",
              "\n",
              "Deviance Residuals: \n",
              "    Min       1Q   Median       3Q      Max  \n",
              "-2.1805  -0.4875  -0.1639   0.2766   3.3756  \n",
              "\n",
              "Coefficients: (4 not defined because of singularities)\n",
              "                   Estimate Std. Error t value Pr(>|t|)    \n",
              "(Intercept)        0.023786   0.546644   0.044  0.96530    \n",
              "school             0.016368   0.068752   0.238  0.81187    \n",
              "sex                0.430517   0.056831   7.575 8.11e-14 ***\n",
              "age                0.061518   0.024120   2.550  0.01091 *  \n",
              "address           -0.110767   0.064337  -1.722  0.08544 .  \n",
              "famsize           -0.140283   0.058046  -2.417  0.01584 *  \n",
              "Pstatus            0.017179   0.083707   0.205  0.83744    \n",
              "Medu               0.062076   0.036529   1.699  0.08956 .  \n",
              "Fedu              -0.019995   0.032568  -0.614  0.53938    \n",
              "traveltime         0.078046   0.038566   2.024  0.04327 *  \n",
              "studytime         -0.063166   0.033494  -1.886  0.05960 .  \n",
              "failures          -0.001700   0.045336  -0.038  0.97009    \n",
              "schoolsup          0.115049   0.084406   1.363  0.17318    \n",
              "famsup             0.054440   0.054821   0.993  0.32093    \n",
              "paid               0.110226   0.064793   1.701  0.08921 .  \n",
              "activities        -0.066469   0.052800  -1.259  0.20837    \n",
              "nursery           -0.151395   0.064530  -2.346  0.01916 *  \n",
              "higher            -0.026521   0.100227  -0.265  0.79137    \n",
              "internet           0.050366   0.068131   0.739  0.45992    \n",
              "romantic           0.066629   0.055130   1.209  0.22711    \n",
              "famrel            -0.119877   0.027726  -4.324 1.69e-05 ***\n",
              "freetime           0.045746   0.027008   1.694  0.09062 .  \n",
              "goout              0.174936   0.023813   7.346 4.21e-13 ***\n",
              "health             0.034152   0.018563   1.840  0.06609 .  \n",
              "absences           0.012427   0.004334   2.867  0.00423 ** \n",
              "avggrades         -0.010474   0.009188  -1.140  0.25458    \n",
              "Fjob_at_home       0.019768   0.157080   0.126  0.89988    \n",
              "Fjob_health        0.176814   0.169090   1.046  0.29596    \n",
              "Fjob_other         0.039698   0.119245   0.333  0.73927    \n",
              "Fjob_services      0.245666   0.121641   2.020  0.04369 *  \n",
              "Fjob_teacher             NA         NA      NA       NA    \n",
              "Mjob_at_home       0.029968   0.119631   0.251  0.80225    \n",
              "Mjob_health       -0.339121   0.121025  -2.802  0.00518 ** \n",
              "Mjob_other        -0.004350   0.102122  -0.043  0.96604    \n",
              "Mjob_services      0.003253   0.097878   0.033  0.97349    \n",
              "Mjob_teacher             NA         NA      NA       NA    \n",
              "reason_course      0.030877   0.069733   0.443  0.65802    \n",
              "reason_home        0.138405   0.075173   1.841  0.06589 .  \n",
              "reason_other       0.390670   0.099648   3.921 9.44e-05 ***\n",
              "reason_reputation        NA         NA      NA       NA    \n",
              "guardian_father    0.004902   0.121868   0.040  0.96792    \n",
              "guardian_mother   -0.141030   0.111157  -1.269  0.20482    \n",
              "guardian_other           NA         NA      NA       NA    \n",
              "---\n",
              "Signif. codes:  0 ‘***’ 0.001 ‘**’ 0.01 ‘*’ 0.05 ‘.’ 0.1 ‘ ’ 1\n",
              "\n",
              "(Dispersion parameter for gaussian family taken to be 0.6502464)\n",
              "\n",
              "    Null deviance: 866.97  on 1043  degrees of freedom\n",
              "Residual deviance: 653.50  on 1005  degrees of freedom\n",
              "AIC: 2553.7\n",
              "\n",
              "Number of Fisher Scoring iterations: 2\n"
            ]
          },
          "metadata": {
            "tags": []
          }
        }
      ]
    },
    {
      "cell_type": "code",
      "metadata": {
        "id": "kO2TXFLeGAWE",
        "colab_type": "code",
        "outputId": "1cff7812-3111-4704-f9ee-e97154fb6765",
        "colab": {
          "base_uri": "https://localhost:8080/",
          "height": 612
        }
      },
      "source": [
        "predictedY <- predict(logistic_reg_model_wdays)\n",
        "Y <- data_wdays$Dalc\n",
        "\n",
        "evaluate_model(Y, predictedY, ncol(data_wdays))"
      ],
      "execution_count": 20,
      "outputs": [
        {
          "output_type": "stream",
          "text": [
            "[1] \"RMSE: 0.79117355504761\"\n",
            "Confusion Matrix and Statistics\n",
            "\n",
            "          Reference\n",
            "Prediction   1   2   3   4   5\n",
            "         1 481 243   3   0   0\n",
            "         2  64 126   6   0   0\n",
            "         3  13  52   4   0   0\n",
            "         4   3  21   2   0   0\n",
            "         5   0  20   6   0   0\n",
            "\n",
            "Overall Statistics\n",
            "                                          \n",
            "               Accuracy : 0.5852          \n",
            "                 95% CI : (0.5547, 0.6153)\n",
            "    No Information Rate : 0.5374          \n",
            "    P-Value [Acc > NIR] : 0.001031        \n",
            "                                          \n",
            "                  Kappa : 0.2339          \n",
            "                                          \n",
            " Mcnemar's Test P-Value : NA              \n",
            "\n",
            "Statistics by Class:\n",
            "\n",
            "                     Class: 1 Class: 2 Class: 3 Class: 4 Class: 5\n",
            "Sensitivity            0.8574   0.2727 0.190476       NA       NA\n",
            "Specificity            0.4907   0.8797 0.936461   0.9751   0.9751\n",
            "Pos Pred Value         0.6616   0.6429 0.057971       NA       NA\n",
            "Neg Pred Value         0.7476   0.6038 0.982564       NA       NA\n",
            "Prevalence             0.5374   0.4425 0.020115   0.0000   0.0000\n",
            "Detection Rate         0.4607   0.1207 0.003831   0.0000   0.0000\n",
            "Detection Prevalence   0.6964   0.1877 0.066092   0.0249   0.0249\n",
            "Balanced Accuracy      0.6740   0.5762 0.563469       NA       NA\n",
            "[1] \"Coefficient of determination: 0.753775816172191\"\n",
            "[1] \"Coefficient of variation: 0.541000806079665\"\n"
          ],
          "name": "stdout"
        }
      ]
    },
    {
      "cell_type": "markdown",
      "metadata": {
        "id": "c0UgbEie4Ps7",
        "colab_type": "text"
      },
      "source": [
        "#### Regresja grzbietowa"
      ]
    },
    {
      "cell_type": "markdown",
      "metadata": {
        "id": "HgaSsMwJa5AR",
        "colab_type": "text"
      },
      "source": [
        "Regresja grzbietowa (ang. Ridge Regression) jest metodą regularyzacji szczególnie użyteczną w przypadku danych zawierających wiele liniowo zależnych zmiennych towarzyszących. Z tego powodu dobrze radzi sobie w przypadkach potencjalnie prowadzących do overfittingu z powodu zbyt dużej liczby parametrów w stosunku do liczby przykładów w zbiorze danych. Potencjalnym parametrem w tej metodzie jest mnożnik Lagrange’a λ. Jendakże pakiet R posiada zaimplementowaną metodę automatycznego dobierania parametru λ na podstawie metody Cule, która dobiera optymalną wartość parametru. Dla porównania przeprowadzony zostanie także eksperyment z dobraną arbitralnie wartością parametru λ."
      ]
    },
    {
      "cell_type": "markdown",
      "metadata": {
        "id": "5Qo1dJ3c6njV",
        "colab_type": "text"
      },
      "source": [
        "Konwersja danych do formatu wymaganego przez funkcję `glmnet`"
      ]
    },
    {
      "cell_type": "code",
      "metadata": {
        "id": "bFQtEY347CZ1",
        "colab_type": "code",
        "colab": {}
      },
      "source": [
        "y_wdays <- data_wdays$Dalc\n",
        "x_wdays <- data_wdays[,1:42] %>% data.matrix()\n",
        "\n",
        "lambdas <- 10^seq(3, -2, by = -.1)"
      ],
      "execution_count": 0,
      "outputs": []
    },
    {
      "cell_type": "code",
      "metadata": {
        "id": "Laytf-qD4SRv",
        "colab_type": "code",
        "outputId": "7b19b2b9-c631-4908-a8a6-71ca2535d99d",
        "colab": {
          "base_uri": "https://localhost:8080/",
          "height": 238
        }
      },
      "source": [
        "ridge_reg_model_wdays <- cv.glmnet(x_wdays, y_wdays, alpha=0, lambda=lambdas)\n",
        "summary(ridge_reg_model_wdays)\n",
        "\n",
        "opt_lambda <- ridge_reg_model_wdays$lambda.min\n",
        "print(opt_lambda)"
      ],
      "execution_count": 22,
      "outputs": [
        {
          "output_type": "display_data",
          "data": {
            "text/plain": [
              "           Length Class  Mode     \n",
              "lambda     51     -none- numeric  \n",
              "cvm        51     -none- numeric  \n",
              "cvsd       51     -none- numeric  \n",
              "cvup       51     -none- numeric  \n",
              "cvlo       51     -none- numeric  \n",
              "nzero      51     -none- numeric  \n",
              "call        5     -none- call     \n",
              "name        1     -none- character\n",
              "glmnet.fit 12     elnet  list     \n",
              "lambda.min  1     -none- numeric  \n",
              "lambda.1se  1     -none- numeric  "
            ]
          },
          "metadata": {
            "tags": []
          }
        },
        {
          "output_type": "stream",
          "text": [
            "[1] 0.1584893\n"
          ],
          "name": "stdout"
        }
      ]
    },
    {
      "cell_type": "code",
      "metadata": {
        "id": "iiRKhJeD5wAQ",
        "colab_type": "code",
        "outputId": "fe7ab9cb-d3d3-470a-f04e-b658ce8bf44e",
        "colab": {
          "base_uri": "https://localhost:8080/",
          "height": 612
        }
      },
      "source": [
        "predictedY <- predict(ridge_reg_model_wdays, newx=x_wdays, s=opt_lambda)\n",
        "Y <- data_wdays$Dalc\n",
        "\n",
        "evaluate_model(Y, predictedY, ncol(data_wdays))"
      ],
      "execution_count": 23,
      "outputs": [
        {
          "output_type": "stream",
          "text": [
            "[1] \"RMSE: 0.793616755175742\"\n",
            "Confusion Matrix and Statistics\n",
            "\n",
            "          Reference\n",
            "Prediction   1   2   3   4   5\n",
            "         1 485 239   3   0   0\n",
            "         2  65 127   4   0   0\n",
            "         3  12  55   2   0   0\n",
            "         4   3  22   1   0   0\n",
            "         5   0  20   6   0   0\n",
            "\n",
            "Overall Statistics\n",
            "                                          \n",
            "               Accuracy : 0.5881          \n",
            "                 95% CI : (0.5576, 0.6182)\n",
            "    No Information Rate : 0.5412          \n",
            "    P-Value [Acc > NIR] : 0.001259        \n",
            "                                          \n",
            "                  Kappa : 0.2357          \n",
            "                                          \n",
            " Mcnemar's Test P-Value : NA              \n",
            "\n",
            "Statistics by Class:\n",
            "\n",
            "                     Class: 1 Class: 2 Class: 3 Class: 4 Class: 5\n",
            "Sensitivity            0.8584   0.2743 0.125000       NA       NA\n",
            "Specificity            0.4948   0.8812 0.934825   0.9751   0.9751\n",
            "Pos Pred Value         0.6671   0.6480 0.028986       NA       NA\n",
            "Neg Pred Value         0.7476   0.6038 0.985641       NA       NA\n",
            "Prevalence             0.5412   0.4435 0.015326   0.0000   0.0000\n",
            "Detection Rate         0.4646   0.1216 0.001916   0.0000   0.0000\n",
            "Detection Prevalence   0.6964   0.1877 0.066092   0.0249   0.0249\n",
            "Balanced Accuracy      0.6766   0.5778 0.529912       NA       NA\n",
            "[1] \"Coefficient of determination: 0.758438430824939\"\n",
            "[1] \"Coefficient of variation: 0.5426714549914\"\n"
          ],
          "name": "stdout"
        }
      ]
    },
    {
      "cell_type": "markdown",
      "metadata": {
        "id": "neGU4_lkBUUe",
        "colab_type": "text"
      },
      "source": [
        "#### Regresja Lasso"
      ]
    },
    {
      "cell_type": "markdown",
      "metadata": {
        "id": "4EahjpGHbCW0",
        "colab_type": "text"
      },
      "source": [
        "Regresja Lasso (ang. Lasso Regression) jest metodą podobną do regresji grzbietowej oraz posiada takie same parametry (więc eksperymenty przeprowadzone z użyciem tej metody będą takie same). W przeciwieństwie do regresji grzbietowej, Lasso dokonuje selekcji zmiennych towarzyszących przez co zwiększa interpretowalność modelu."
      ]
    },
    {
      "cell_type": "code",
      "metadata": {
        "id": "rTyMH4kzBZmy",
        "colab_type": "code",
        "outputId": "9fcef5f6-80aa-4ae3-ba64-6d7c4e49181b",
        "colab": {
          "base_uri": "https://localhost:8080/",
          "height": 238
        }
      },
      "source": [
        "lasso_reg_model_wdays <- cv.glmnet(x_wdays, y_wdays, alpha=1, lambda=lambdas)\n",
        "summary(lasso_reg_model_wdays)\n",
        "\n",
        "opt_lambda <- lasso_reg_model_wdays$lambda.min\n",
        "print(opt_lambda)"
      ],
      "execution_count": 24,
      "outputs": [
        {
          "output_type": "display_data",
          "data": {
            "text/plain": [
              "           Length Class  Mode     \n",
              "lambda     51     -none- numeric  \n",
              "cvm        51     -none- numeric  \n",
              "cvsd       51     -none- numeric  \n",
              "cvup       51     -none- numeric  \n",
              "cvlo       51     -none- numeric  \n",
              "nzero      51     -none- numeric  \n",
              "call        5     -none- call     \n",
              "name        1     -none- character\n",
              "glmnet.fit 12     elnet  list     \n",
              "lambda.min  1     -none- numeric  \n",
              "lambda.1se  1     -none- numeric  "
            ]
          },
          "metadata": {
            "tags": []
          }
        },
        {
          "output_type": "stream",
          "text": [
            "[1] 0.01\n"
          ],
          "name": "stdout"
        }
      ]
    },
    {
      "cell_type": "code",
      "metadata": {
        "id": "2_mXesC4z3ks",
        "colab_type": "code",
        "outputId": "bef282d2-b8d0-432f-c65a-c8af710bf6e7",
        "colab": {
          "base_uri": "https://localhost:8080/",
          "height": 612
        }
      },
      "source": [
        "predictedY <- predict(lasso_reg_model_wdays, newx=x_wdays, s=opt_lambda)\n",
        "Y <- data_wdays$Dalc\n",
        "\n",
        "evaluate_model(Y, predictedY, ncol(data_wdays))"
      ],
      "execution_count": 25,
      "outputs": [
        {
          "output_type": "stream",
          "text": [
            "[1] \"RMSE: 0.793299707414717\"\n",
            "Confusion Matrix and Statistics\n",
            "\n",
            "          Reference\n",
            "Prediction   1   2   3   4   5\n",
            "         1 486 238   3   0   0\n",
            "         2  66 126   4   0   0\n",
            "         3  13  54   2   0   0\n",
            "         4   2  22   2   0   0\n",
            "         5   0  20   6   0   0\n",
            "\n",
            "Overall Statistics\n",
            "                                          \n",
            "               Accuracy : 0.5881          \n",
            "                 95% CI : (0.5576, 0.6182)\n",
            "    No Information Rate : 0.5431          \n",
            "    P-Value [Acc > NIR] : 0.001882        \n",
            "                                          \n",
            "                  Kappa : 0.2344          \n",
            "                                          \n",
            " Mcnemar's Test P-Value : NA              \n",
            "\n",
            "Statistics by Class:\n",
            "\n",
            "                     Class: 1 Class: 2 Class: 3 Class: 4 Class: 5\n",
            "Sensitivity            0.8571   0.2739 0.117647       NA       NA\n",
            "Specificity            0.4948   0.8801 0.934761   0.9751   0.9751\n",
            "Pos Pred Value         0.6685   0.6429 0.028986       NA       NA\n",
            "Neg Pred Value         0.7445   0.6061 0.984615       NA       NA\n",
            "Prevalence             0.5431   0.4406 0.016284   0.0000   0.0000\n",
            "Detection Rate         0.4655   0.1207 0.001916   0.0000   0.0000\n",
            "Detection Prevalence   0.6964   0.1877 0.066092   0.0249   0.0249\n",
            "Balanced Accuracy      0.6760   0.5770 0.526204       NA       NA\n",
            "[1] \"Coefficient of determination: 0.757832563640313\"\n",
            "[1] \"Coefficient of variation: 0.542454659203439\"\n"
          ],
          "name": "stdout"
        }
      ]
    },
    {
      "cell_type": "markdown",
      "metadata": {
        "id": "kiWJQhr2Ce6H",
        "colab_type": "text"
      },
      "source": [
        "#### Regresja Elastic Net"
      ]
    },
    {
      "cell_type": "markdown",
      "metadata": {
        "id": "jKf4rGk6bF87",
        "colab_type": "text"
      },
      "source": [
        "Regresja Elastic Net (ang. Elastic Net Regression) jest kombinacją liniową dwóch poprzednich metod: regresji grzbietowej oraz Lasso. Parametrem, który będzie tu regulowany jest α - przyjmuje on wartości od 0 do 1 i mówi on o tym jak duży udział w modelu będzie miała każda ze składowych: grzbietowa oraz Lasso."
      ]
    },
    {
      "cell_type": "markdown",
      "metadata": {
        "id": "WRhuTfo0ChwH",
        "colab_type": "text"
      },
      "source": [
        "Testy dla trzech wartości parametru alpha: 0.25, 0.5 i 0.75."
      ]
    },
    {
      "cell_type": "code",
      "metadata": {
        "id": "kQevLBwoC41P",
        "colab_type": "code",
        "outputId": "2eeb31b9-5808-462f-ace3-5f6accd419f9",
        "colab": {
          "base_uri": "https://localhost:8080/",
          "height": 238
        }
      },
      "source": [
        "elastic_net_025_reg_model_wdays <- cv.glmnet(x_wdays, y_wdays, alpha=0.25, lambda=lambdas)\n",
        "summary(elastic_net_025_reg_model_wdays)\n",
        "\n",
        "opt_lambda <- elastic_net_025_reg_model_wdays$lambda.min\n",
        "print(opt_lambda)"
      ],
      "execution_count": 26,
      "outputs": [
        {
          "output_type": "display_data",
          "data": {
            "text/plain": [
              "           Length Class  Mode     \n",
              "lambda     51     -none- numeric  \n",
              "cvm        51     -none- numeric  \n",
              "cvsd       51     -none- numeric  \n",
              "cvup       51     -none- numeric  \n",
              "cvlo       51     -none- numeric  \n",
              "nzero      51     -none- numeric  \n",
              "call        5     -none- call     \n",
              "name        1     -none- character\n",
              "glmnet.fit 12     elnet  list     \n",
              "lambda.min  1     -none- numeric  \n",
              "lambda.1se  1     -none- numeric  "
            ]
          },
          "metadata": {
            "tags": []
          }
        },
        {
          "output_type": "stream",
          "text": [
            "[1] 0.03981072\n"
          ],
          "name": "stdout"
        }
      ]
    },
    {
      "cell_type": "code",
      "metadata": {
        "id": "ZJ_met6ZzaY3",
        "colab_type": "code",
        "outputId": "22f34a99-05e8-499f-ef0f-2cee4580dd5f",
        "colab": {
          "base_uri": "https://localhost:8080/",
          "height": 612
        }
      },
      "source": [
        "predictedY <- predict(elastic_net_025_reg_model_wdays, newx=x_wdays, s=opt_lambda)\n",
        "Y <- data_wdays$Dalc\n",
        "\n",
        "evaluate_model(Y, predictedY, ncol(data_wdays))"
      ],
      "execution_count": 27,
      "outputs": [
        {
          "output_type": "stream",
          "text": [
            "[1] \"RMSE: 0.793938140454897\"\n",
            "Confusion Matrix and Statistics\n",
            "\n",
            "          Reference\n",
            "Prediction   1   2   3   4   5\n",
            "         1 485 239   3   0   0\n",
            "         2  67 126   3   0   0\n",
            "         3  13  54   2   0   0\n",
            "         4   2  22   2   0   0\n",
            "         5   0  20   6   0   0\n",
            "\n",
            "Overall Statistics\n",
            "                                          \n",
            "               Accuracy : 0.5872          \n",
            "                 95% CI : (0.5566, 0.6172)\n",
            "    No Information Rate : 0.5431          \n",
            "    P-Value [Acc > NIR] : 0.002293        \n",
            "                                          \n",
            "                  Kappa : 0.2325          \n",
            "                                          \n",
            " Mcnemar's Test P-Value : NA              \n",
            "\n",
            "Statistics by Class:\n",
            "\n",
            "                     Class: 1 Class: 2 Class: 3 Class: 4 Class: 5\n",
            "Sensitivity            0.8554   0.2733 0.125000       NA       NA\n",
            "Specificity            0.4927   0.8799 0.934825   0.9751   0.9751\n",
            "Pos Pred Value         0.6671   0.6429 0.028986       NA       NA\n",
            "Neg Pred Value         0.7413   0.6050 0.985641       NA       NA\n",
            "Prevalence             0.5431   0.4416 0.015326   0.0000   0.0000\n",
            "Detection Rate         0.4646   0.1207 0.001916   0.0000   0.0000\n",
            "Detection Prevalence   0.6964   0.1877 0.066092   0.0249   0.0249\n",
            "Balanced Accuracy      0.6740   0.5766 0.529912       NA       NA\n",
            "[1] \"Coefficient of determination: 0.759052833936411\"\n",
            "[1] \"Coefficient of variation: 0.542891216754133\"\n"
          ],
          "name": "stdout"
        }
      ]
    },
    {
      "cell_type": "code",
      "metadata": {
        "id": "VzBu2jLIFLrt",
        "colab_type": "code",
        "outputId": "a5e9dad8-1bf2-41d2-bd06-e4a652da8995",
        "colab": {
          "base_uri": "https://localhost:8080/",
          "height": 238
        }
      },
      "source": [
        "elastic_net_05_reg_model_wdays <- cv.glmnet(x_wdays, y_wdays, alpha=0.5, lamda=lambdas)\n",
        "summary(elastic_net_05_reg_model_wdays)\n",
        "\n",
        "opt_lambda <- elastic_net_05_reg_model_wdays$lambda.min\n",
        "print(opt_lambda)"
      ],
      "execution_count": 28,
      "outputs": [
        {
          "output_type": "display_data",
          "data": {
            "text/plain": [
              "           Length Class  Mode     \n",
              "lambda     70     -none- numeric  \n",
              "cvm        70     -none- numeric  \n",
              "cvsd       70     -none- numeric  \n",
              "cvup       70     -none- numeric  \n",
              "cvlo       70     -none- numeric  \n",
              "nzero      70     -none- numeric  \n",
              "call        5     -none- call     \n",
              "name        1     -none- character\n",
              "glmnet.fit 12     elnet  list     \n",
              "lambda.min  1     -none- numeric  \n",
              "lambda.1se  1     -none- numeric  "
            ]
          },
          "metadata": {
            "tags": []
          }
        },
        {
          "output_type": "stream",
          "text": [
            "[1] 0.01937914\n"
          ],
          "name": "stdout"
        }
      ]
    },
    {
      "cell_type": "code",
      "metadata": {
        "id": "EHkuTslfzbHc",
        "colab_type": "code",
        "outputId": "86bf1ced-4fcf-4c86-8c9d-96ce40daaac5",
        "colab": {
          "base_uri": "https://localhost:8080/",
          "height": 612
        }
      },
      "source": [
        "predictedY <- predict(ridge_reg_model_wdays, newx=x_wdays, s=opt_lambda)\n",
        "Y <- data_wdays$Dalc\n",
        "\n",
        "evaluate_model(Y, predictedY, ncol(data_wdays))"
      ],
      "execution_count": 29,
      "outputs": [
        {
          "output_type": "stream",
          "text": [
            "[1] \"RMSE: 0.791228730817517\"\n",
            "Confusion Matrix and Statistics\n",
            "\n",
            "          Reference\n",
            "Prediction   1   2   3   4   5\n",
            "         1 485 239   3   0   0\n",
            "         2  63 127   6   0   0\n",
            "         3  13  52   4   0   0\n",
            "         4   3  21   2   0   0\n",
            "         5   0  20   6   0   0\n",
            "\n",
            "Overall Statistics\n",
            "                                          \n",
            "               Accuracy : 0.59            \n",
            "                 95% CI : (0.5595, 0.6201)\n",
            "    No Information Rate : 0.5402          \n",
            "    P-Value [Acc > NIR] : 0.0006676       \n",
            "                                          \n",
            "                  Kappa : 0.2407          \n",
            "                                          \n",
            " Mcnemar's Test P-Value : NA              \n",
            "\n",
            "Statistics by Class:\n",
            "\n",
            "                     Class: 1 Class: 2 Class: 3 Class: 4 Class: 5\n",
            "Sensitivity            0.8599   0.2767 0.190476       NA       NA\n",
            "Specificity            0.4958   0.8821 0.936461   0.9751   0.9751\n",
            "Pos Pred Value         0.6671   0.6480 0.057971       NA       NA\n",
            "Neg Pred Value         0.7508   0.6085 0.982564       NA       NA\n",
            "Prevalence             0.5402   0.4397 0.020115   0.0000   0.0000\n",
            "Detection Rate         0.4646   0.1216 0.003831   0.0000   0.0000\n",
            "Detection Prevalence   0.6964   0.1877 0.066092   0.0249   0.0249\n",
            "Balanced Accuracy      0.6779   0.5794 0.563469       NA       NA\n",
            "[1] \"Coefficient of determination: 0.753880955205115\"\n",
            "[1] \"Coefficient of variation: 0.541038535015125\"\n"
          ],
          "name": "stdout"
        }
      ]
    },
    {
      "cell_type": "code",
      "metadata": {
        "id": "90GCVqHiFQey",
        "colab_type": "code",
        "outputId": "ce5379de-614c-46e8-a399-0389579d3e99",
        "colab": {
          "base_uri": "https://localhost:8080/",
          "height": 238
        }
      },
      "source": [
        "elastic_net_075_reg_model_wdays <- cv.glmnet(x_wdays, y_wdays, alpha=0.75, lamda=lambdas)\n",
        "summary(elastic_net_075_reg_model_wdays)\n",
        "\n",
        "opt_lambda <- elastic_net_075_reg_model_wdays$lambda.min\n",
        "print(opt_lambda)"
      ],
      "execution_count": 30,
      "outputs": [
        {
          "output_type": "display_data",
          "data": {
            "text/plain": [
              "           Length Class  Mode     \n",
              "lambda     69     -none- numeric  \n",
              "cvm        69     -none- numeric  \n",
              "cvsd       69     -none- numeric  \n",
              "cvup       69     -none- numeric  \n",
              "cvlo       69     -none- numeric  \n",
              "nzero      69     -none- numeric  \n",
              "call        5     -none- call     \n",
              "name        1     -none- character\n",
              "glmnet.fit 12     elnet  list     \n",
              "lambda.min  1     -none- numeric  \n",
              "lambda.1se  1     -none- numeric  "
            ]
          },
          "metadata": {
            "tags": []
          }
        },
        {
          "output_type": "stream",
          "text": [
            "[1] 0.01417906\n"
          ],
          "name": "stdout"
        }
      ]
    },
    {
      "cell_type": "code",
      "metadata": {
        "id": "W9nx6kmrzbxZ",
        "colab_type": "code",
        "outputId": "b9b9544c-51ba-4a84-bb64-e628924de2b2",
        "colab": {
          "base_uri": "https://localhost:8080/",
          "height": 612
        }
      },
      "source": [
        "predictedY <- predict(ridge_reg_model_wdays, newx=x_wdays, s=opt_lambda)\n",
        "Y <- data_wdays$Dalc\n",
        "\n",
        "evaluate_model(Y, predictedY, ncol(data_wdays))"
      ],
      "execution_count": 31,
      "outputs": [
        {
          "output_type": "stream",
          "text": [
            "[1] \"RMSE: 0.791203795377692\"\n",
            "Confusion Matrix and Statistics\n",
            "\n",
            "          Reference\n",
            "Prediction   1   2   3   4   5\n",
            "         1 483 241   3   0   0\n",
            "         2  63 127   6   0   0\n",
            "         3  13  52   4   0   0\n",
            "         4   3  21   2   0   0\n",
            "         5   0  20   6   0   0\n",
            "\n",
            "Overall Statistics\n",
            "                                          \n",
            "               Accuracy : 0.5881          \n",
            "                 95% CI : (0.5576, 0.6182)\n",
            "    No Information Rate : 0.5383          \n",
            "    P-Value [Acc > NIR] : 0.0006708       \n",
            "                                          \n",
            "                  Kappa : 0.2385          \n",
            "                                          \n",
            " Mcnemar's Test P-Value : NA              \n",
            "\n",
            "Statistics by Class:\n",
            "\n",
            "                     Class: 1 Class: 2 Class: 3 Class: 4 Class: 5\n",
            "Sensitivity            0.8594   0.2755 0.190476       NA       NA\n",
            "Specificity            0.4938   0.8816 0.936461   0.9751   0.9751\n",
            "Pos Pred Value         0.6644   0.6480 0.057971       NA       NA\n",
            "Neg Pred Value         0.7508   0.6061 0.982564       NA       NA\n",
            "Prevalence             0.5383   0.4416 0.020115   0.0000   0.0000\n",
            "Detection Rate         0.4626   0.1216 0.003831   0.0000   0.0000\n",
            "Detection Prevalence   0.6964   0.1877 0.066092   0.0249   0.0249\n",
            "Balanced Accuracy      0.6766   0.5786 0.563469       NA       NA\n",
            "[1] \"Coefficient of determination: 0.75383343909189\"\n",
            "[1] \"Coefficient of variation: 0.541021484277068\"\n"
          ],
          "name": "stdout"
        }
      ]
    },
    {
      "cell_type": "markdown",
      "metadata": {
        "id": "S147PLvYIYtL",
        "colab_type": "text"
      },
      "source": [
        "#### Regresja Wektorów Nośnych"
      ]
    },
    {
      "cell_type": "markdown",
      "metadata": {
        "id": "Y31R1VN7bMF-",
        "colab_type": "text"
      },
      "source": [
        "Regresja Wektorów Nośnych (ang. Support Vector Regression - SVR) jest to metoda regresji, która nie minimalizuje błędu średniokwadratowego każdego z przypadków, a bada czy leży w określonych przez parametr `epsilon` granicach. Każdy punkt nieleżący w tych granicach generuje dodatkową karę. W eksperymentach użyte zostaną dwa jądra: liniowe oraz radialnej funkcji bazowej."
      ]
    },
    {
      "cell_type": "markdown",
      "metadata": {
        "id": "i79tYAPXqX2C",
        "colab_type": "text"
      },
      "source": [
        "Za pomocą funkcji `tune` dopasowano lokalnie optymalne wartości parametrów modelu regresji wektorów nośnych: `epsilon` i `cost`."
      ]
    },
    {
      "cell_type": "markdown",
      "metadata": {
        "id": "RlW_8-coIlI2",
        "colab_type": "text"
      },
      "source": [
        "Dopasowano model korzystający z jądra liniowego."
      ]
    },
    {
      "cell_type": "code",
      "metadata": {
        "id": "gpLL-gHlIro1",
        "colab_type": "code",
        "colab": {
          "base_uri": "https://localhost:8080/",
          "height": 437
        },
        "outputId": "7a94b884-4a2e-4220-d270-ca3184dc121a"
      },
      "source": [
        "tune_results <- tune(svm, x_wdays, y_wdays, svm = \"regression\", kernel=\"linear\",\n",
        "                     ranges = list(epsilon = seq(0, 1, 0.2), cost = 2^(1:5)))\n",
        "\n",
        "plot(tune_results)"
      ],
      "execution_count": 32,
      "outputs": [
        {
          "output_type": "display_data",
          "data": {
            "image/png": "[encoded data removed]",
            "text/plain": [
              "Plot with title “Performance of `svm'”"
            ]
          },
          "metadata": {
            "tags": [],
            "image/png": {
              "width": 420,
              "height": 420
            },
            "text/plain": {
              "width": 420,
              "height": 420
            }
          }
        }
      ]
    },
    {
      "cell_type": "code",
      "metadata": {
        "id": "8itKre1LSp_L",
        "colab_type": "code",
        "colab": {
          "base_uri": "https://localhost:8080/",
          "height": 340
        },
        "outputId": "37bf920c-5cf3-40e3-e782-809d32a715e7"
      },
      "source": [
        "svrl_model_wdays <- tune_results$best.model\n",
        "summary(svrl_model_wdays)"
      ],
      "execution_count": 33,
      "outputs": [
        {
          "output_type": "display_data",
          "data": {
            "text/plain": [
              "\n",
              "Call:\n",
              "best.tune(method = svm, train.x = x_wdays, train.y = y_wdays, ranges = list(epsilon = seq(0, \n",
              "    1, 0.2), cost = 2^(1:5)), svm = \"regression\", kernel = \"linear\")\n",
              "\n",
              "\n",
              "Parameters:\n",
              "   SVM-Type:  eps-regression \n",
              " SVM-Kernel:  linear \n",
              "       cost:  2 \n",
              "      gamma:  0.02380952 \n",
              "    epsilon:  0.8 \n",
              "\n",
              "\n",
              "Number of Support Vectors:  269\n",
              "\n",
              "\n",
              "\n",
              "\n"
            ]
          },
          "metadata": {
            "tags": []
          }
        }
      ]
    },
    {
      "cell_type": "code",
      "metadata": {
        "id": "unerD0c59e3X",
        "colab_type": "code",
        "colab": {
          "base_uri": "https://localhost:8080/",
          "height": 612
        },
        "outputId": "8bd8c91d-ce4e-4f74-8d1d-088cfda04d09"
      },
      "source": [
        "predictedY <- predict(svrl_model_wdays, x=x_wdays)\n",
        "Y <- data_wdays$Dalc\n",
        "\n",
        "evaluate_model(Y, predictedY, ncol(data_wdays))"
      ],
      "execution_count": 34,
      "outputs": [
        {
          "output_type": "stream",
          "text": [
            "[1] \"RMSE: 0.818595449972803\"\n",
            "Confusion Matrix and Statistics\n",
            "\n",
            "          Reference\n",
            "Prediction   1   2   3   4   5\n",
            "         1 354 370   3   0   0\n",
            "         2  48 148   0   0   0\n",
            "         3   4  65   0   0   0\n",
            "         4   1  25   0   0   0\n",
            "         5   0  26   0   0   0\n",
            "\n",
            "Overall Statistics\n",
            "                                          \n",
            "               Accuracy : 0.4808          \n",
            "                 95% CI : (0.4501, 0.5116)\n",
            "    No Information Rate : 0.6073          \n",
            "    P-Value [Acc > NIR] : 1               \n",
            "                                          \n",
            "                  Kappa : 0.1549          \n",
            "                                          \n",
            " Mcnemar's Test P-Value : NA              \n",
            "\n",
            "Statistics by Class:\n",
            "\n",
            "                     Class: 1 Class: 2 Class: 3 Class: 4 Class: 5\n",
            "Sensitivity            0.8698   0.2334 0.000000       NA       NA\n",
            "Specificity            0.4144   0.8829 0.933718   0.9751   0.9751\n",
            "Pos Pred Value         0.4869   0.7551 0.000000       NA       NA\n",
            "Neg Pred Value         0.8328   0.4269 0.996923       NA       NA\n",
            "Prevalence             0.3898   0.6073 0.002874   0.0000   0.0000\n",
            "Detection Rate         0.3391   0.1418 0.000000   0.0000   0.0000\n",
            "Detection Prevalence   0.6964   0.1877 0.066092   0.0249   0.0249\n",
            "Balanced Accuracy      0.6421   0.5582 0.466859       NA       NA\n",
            "[1] \"Coefficient of determination: 0.806932722553614\"\n",
            "[1] \"Coefficient of variation: 0.559751770598277\"\n"
          ],
          "name": "stdout"
        }
      ]
    },
    {
      "cell_type": "markdown",
      "metadata": {
        "id": "IJD_XycmvIZc",
        "colab_type": "text"
      },
      "source": [
        "Dopasowano model korzystający o radialnej funkcji bazowej.\n"
      ]
    },
    {
      "cell_type": "code",
      "metadata": {
        "id": "6Tw9_DHavL1R",
        "colab_type": "code",
        "colab": {
          "base_uri": "https://localhost:8080/",
          "height": 437
        },
        "outputId": "6b07397f-ee62-44f8-9c90-7b11dfa6d3d0"
      },
      "source": [
        "tune_results <- tune(svm, x_wdays, y_wdays, svm = \"regression\", kernel=\"radial\",\n",
        "                     ranges = list(epsilon = seq(0, 1.0, 0.1), cost = 2^(-1:5)))\n",
        "\n",
        "plot(tune_results)"
      ],
      "execution_count": 35,
      "outputs": [
        {
          "output_type": "display_data",
          "data": {
            "image/png": "[encoded data removed]",
            "text/plain": [
              "Plot with title “Performance of `svm'”"
            ]
          },
          "metadata": {
            "tags": [],
            "image/png": {
              "width": 420,
              "height": 420
            },
            "text/plain": {
              "width": 420,
              "height": 420
            }
          }
        }
      ]
    },
    {
      "cell_type": "code",
      "metadata": {
        "id": "dfxGTX5tvc2f",
        "colab_type": "code",
        "colab": {
          "base_uri": "https://localhost:8080/",
          "height": 340
        },
        "outputId": "00596cf3-b2e2-4593-aa1c-faa5a6651dcb"
      },
      "source": [
        "svrr_model_wdays <- tune_results$best.model\n",
        "summary(svrr_model_wdays)"
      ],
      "execution_count": 36,
      "outputs": [
        {
          "output_type": "display_data",
          "data": {
            "text/plain": [
              "\n",
              "Call:\n",
              "best.tune(method = svm, train.x = x_wdays, train.y = y_wdays, ranges = list(epsilon = seq(0, \n",
              "    1, 0.1), cost = 2^(-1:5)), svm = \"regression\", kernel = \"radial\")\n",
              "\n",
              "\n",
              "Parameters:\n",
              "   SVM-Type:  eps-regression \n",
              " SVM-Kernel:  radial \n",
              "       cost:  32 \n",
              "      gamma:  0.02380952 \n",
              "    epsilon:  0 \n",
              "\n",
              "\n",
              "Number of Support Vectors:  1042\n",
              "\n",
              "\n",
              "\n",
              "\n"
            ]
          },
          "metadata": {
            "tags": []
          }
        }
      ]
    },
    {
      "cell_type": "code",
      "metadata": {
        "id": "CepfuyLY9ra_",
        "colab_type": "code",
        "colab": {
          "base_uri": "https://localhost:8080/",
          "height": 612
        },
        "outputId": "62f74fd5-c6f8-42f0-e03b-52ee133ad936"
      },
      "source": [
        "predictedY <- predict(svrr_model_wdays, x=x_wdays)\n",
        "Y <- data_wdays$Dalc\n",
        "\n",
        "evaluate_model(Y, predictedY, ncol(data_wdays))"
      ],
      "execution_count": 37,
      "outputs": [
        {
          "output_type": "stream",
          "text": [
            "[1] \"RMSE: 0.000321523566071424\"\n",
            "Confusion Matrix and Statistics\n",
            "\n",
            "          Reference\n",
            "Prediction   1   2   3   4   5\n",
            "         1 727   0   0   0   0\n",
            "         2   0 196   0   0   0\n",
            "         3   0   0  69   0   0\n",
            "         4   0   0   0  26   0\n",
            "         5   0   0   0   0  26\n",
            "\n",
            "Overall Statistics\n",
            "                                     \n",
            "               Accuracy : 1          \n",
            "                 95% CI : (0.9965, 1)\n",
            "    No Information Rate : 0.6964     \n",
            "    P-Value [Acc > NIR] : < 2.2e-16  \n",
            "                                     \n",
            "                  Kappa : 1          \n",
            "                                     \n",
            " Mcnemar's Test P-Value : NA         \n",
            "\n",
            "Statistics by Class:\n",
            "\n",
            "                     Class: 1 Class: 2 Class: 3 Class: 4 Class: 5\n",
            "Sensitivity            1.0000   1.0000  1.00000   1.0000   1.0000\n",
            "Specificity            1.0000   1.0000  1.00000   1.0000   1.0000\n",
            "Pos Pred Value         1.0000   1.0000  1.00000   1.0000   1.0000\n",
            "Neg Pred Value         1.0000   1.0000  1.00000   1.0000   1.0000\n",
            "Prevalence             0.6964   0.1877  0.06609   0.0249   0.0249\n",
            "Detection Rate         0.6964   0.1877  0.06609   0.0249   0.0249\n",
            "Detection Prevalence   0.6964   0.1877  0.06609   0.0249   0.0249\n",
            "Balanced Accuracy      1.0000   1.0000  1.00000   1.0000   1.0000\n",
            "[1] \"Coefficient of determination: 1.24487084144276e-07\"\n",
            "[1] \"Coefficient of variation: 0.000219856322684827\"\n"
          ],
          "name": "stdout"
        }
      ]
    },
    {
      "cell_type": "markdown",
      "metadata": {
        "id": "lnZ9CRjWCJon",
        "colab_type": "text"
      },
      "source": [
        "### Przewidywanie spożycia weekendowego\n"
      ]
    },
    {
      "cell_type": "markdown",
      "metadata": {
        "id": "3F4PD7zebXrr",
        "colab_type": "text"
      },
      "source": [
        "Na tym etapie powtórzone zostaną operacje wykonane uprzednio w celu predykcji spożycia alkoholu w ciągu tygodnia roboczego, tym razem w celu predukcji spożycia w dni weekendowe."
      ]
    },
    {
      "cell_type": "markdown",
      "metadata": {
        "id": "uwkMIrrUCZDF",
        "colab_type": "text"
      },
      "source": [
        "#### Regresja liniowa:"
      ]
    },
    {
      "cell_type": "code",
      "metadata": {
        "id": "jw-lVMvL_8sH",
        "colab_type": "code",
        "colab": {
          "base_uri": "https://localhost:8080/",
          "height": 1000
        },
        "outputId": "031f5c59-55c6-44df-839c-a66d8aef46c9"
      },
      "source": [
        "linear_reg_model_wend <- lm(Walc ~ ., data=data_wend[,1:43])\n",
        "summary(linear_reg_model_wend)"
      ],
      "execution_count": 38,
      "outputs": [
        {
          "output_type": "display_data",
          "data": {
            "text/plain": [
              "\n",
              "Call:\n",
              "lm(formula = Walc ~ ., data = data_wend[, 1:43])\n",
              "\n",
              "Residuals:\n",
              "    Min      1Q  Median      3Q     Max \n",
              "-3.4474 -0.7565 -0.1234  0.7109  3.0695 \n",
              "\n",
              "Coefficients: (4 not defined because of singularities)\n",
              "                   Estimate Std. Error t value Pr(>|t|)    \n",
              "(Intercept)        0.248918   0.712454   0.349 0.726877    \n",
              "school            -0.068565   0.089607  -0.765 0.444344    \n",
              "sex                0.613484   0.074070   8.283 3.82e-16 ***\n",
              "age                0.057688   0.031437   1.835 0.066791 .  \n",
              "address           -0.129840   0.083853  -1.548 0.121832    \n",
              "famsize           -0.192496   0.075653  -2.544 0.011093 *  \n",
              "Pstatus            0.099042   0.109097   0.908 0.364188    \n",
              "Medu              -0.084056   0.047609  -1.766 0.077779 .  \n",
              "Fedu               0.095630   0.042446   2.253 0.024477 *  \n",
              "traveltime         0.055952   0.050264   1.113 0.265904    \n",
              "studytime         -0.175039   0.043654  -4.010 6.53e-05 ***\n",
              "failures           0.028970   0.059088   0.490 0.624043    \n",
              "schoolsup         -0.059572   0.110009  -0.542 0.588270    \n",
              "famsup            -0.052851   0.071450  -0.740 0.459659    \n",
              "paid               0.192780   0.084446   2.283 0.022645 *  \n",
              "activities        -0.093359   0.068816  -1.357 0.175196    \n",
              "nursery           -0.248330   0.084104  -2.953 0.003224 ** \n",
              "higher             0.039062   0.130628   0.299 0.764975    \n",
              "internet           0.025843   0.088797   0.291 0.771085    \n",
              "romantic           0.004024   0.071852   0.056 0.955348    \n",
              "famrel            -0.222050   0.036136  -6.145 1.15e-09 ***\n",
              "freetime          -0.024994   0.035200  -0.710 0.477832    \n",
              "goout              0.433115   0.031036  13.955  < 2e-16 ***\n",
              "health             0.090299   0.024194   3.732 0.000200 ***\n",
              "absences           0.021054   0.005649   3.727 0.000205 ***\n",
              "avggrades         -0.008187   0.011975  -0.684 0.494315    \n",
              "Fjob_at_home       0.272060   0.204726   1.329 0.184183    \n",
              "Fjob_health        0.299638   0.220379   1.360 0.174246    \n",
              "Fjob_other         0.553737   0.155415   3.563 0.000384 ***\n",
              "Fjob_services      0.741887   0.158538   4.680 3.27e-06 ***\n",
              "Fjob_teacher             NA         NA      NA       NA    \n",
              "Mjob_at_home      -0.070215   0.155918  -0.450 0.652569    \n",
              "Mjob_health       -0.124039   0.157735  -0.786 0.431834    \n",
              "Mjob_other        -0.241001   0.133098  -1.811 0.070486 .  \n",
              "Mjob_services     -0.162957   0.127567  -1.277 0.201747    \n",
              "Mjob_teacher             NA         NA      NA       NA    \n",
              "reason_course     -0.112117   0.090885  -1.234 0.217632    \n",
              "reason_home       -0.054556   0.097975  -0.557 0.577764    \n",
              "reason_other       0.137884   0.129873   1.062 0.288634    \n",
              "reason_reputation        NA         NA      NA       NA    \n",
              "guardian_father    0.419143   0.158833   2.639 0.008447 ** \n",
              "guardian_mother    0.307193   0.144873   2.120 0.034215 *  \n",
              "guardian_other           NA         NA      NA       NA    \n",
              "---\n",
              "Signif. codes:  0 ‘***’ 0.001 ‘**’ 0.01 ‘*’ 0.05 ‘.’ 0.1 ‘ ’ 1\n",
              "\n",
              "Residual standard error: 1.051 on 1005 degrees of freedom\n",
              "Multiple R-squared:  0.3556,\tAdjusted R-squared:  0.3312 \n",
              "F-statistic: 14.59 on 38 and 1005 DF,  p-value: < 2.2e-16\n"
            ]
          },
          "metadata": {
            "tags": []
          }
        }
      ]
    },
    {
      "cell_type": "code",
      "metadata": {
        "id": "SzX52Mr7DGiX",
        "colab_type": "code",
        "colab": {
          "base_uri": "https://localhost:8080/",
          "height": 612
        },
        "outputId": "e25f68bd-728f-4a02-fe86-dcd06dbf5d9d"
      },
      "source": [
        "predictedY <- predict(linear_reg_model_wend)\n",
        "Y <- data_wend$Walc\n",
        "\n",
        "evaluate_model(Y, predictedY, ncol(data_wend))"
      ],
      "execution_count": 39,
      "outputs": [
        {
          "output_type": "stream",
          "text": [
            "[1] \"RMSE: 1.03115533577928\"\n",
            "Confusion Matrix and Statistics\n",
            "\n",
            "          Reference\n",
            "Prediction   1   2   3   4   5\n",
            "         1 106 242  46   4   0\n",
            "         2  37 128  66   4   0\n",
            "         3  19  79  97   5   0\n",
            "         4   1  30  79  28   0\n",
            "         5   0   5  37  30   1\n",
            "\n",
            "Overall Statistics\n",
            "                                         \n",
            "               Accuracy : 0.3448         \n",
            "                 95% CI : (0.316, 0.3745)\n",
            "    No Information Rate : 0.4636         \n",
            "    P-Value [Acc > NIR] : 1              \n",
            "                                         \n",
            "                  Kappa : 0.1463         \n",
            "                                         \n",
            " Mcnemar's Test P-Value : NA             \n",
            "\n",
            "Statistics by Class:\n",
            "\n",
            "                     Class: 1 Class: 2 Class: 3 Class: 4  Class: 5\n",
            "Sensitivity            0.6503   0.2645  0.29846  0.39437 1.0000000\n",
            "Specificity            0.6686   0.8089  0.85675  0.88695 0.9309684\n",
            "Pos Pred Value         0.2663   0.5447  0.48500  0.20290 0.0136986\n",
            "Neg Pred Value         0.9118   0.5600  0.72986  0.95254 1.0000000\n",
            "Prevalence             0.1561   0.4636  0.31130  0.06801 0.0009579\n",
            "Detection Rate         0.1015   0.1226  0.09291  0.02682 0.0009579\n",
            "Detection Prevalence   0.3812   0.2251  0.19157  0.13218 0.0699234\n",
            "Balanced Accuracy      0.6594   0.5367  0.57760  0.64066 0.9654842\n",
            "[1] \"Coefficient of determination: 0.64444711134618\"\n",
            "[1] \"Coefficient of variation: 0.461196983431141\"\n"
          ],
          "name": "stdout"
        }
      ]
    },
    {
      "cell_type": "markdown",
      "metadata": {
        "colab_type": "text",
        "id": "ROutf4uwoFbt"
      },
      "source": [
        "#### Regresja logistyczna"
      ]
    },
    {
      "cell_type": "code",
      "metadata": {
        "id": "06U-MmaspFPo",
        "colab_type": "code",
        "colab": {
          "base_uri": "https://localhost:8080/",
          "height": 1000
        },
        "outputId": "3b4d6629-6699-40f4-94b9-28de68def53f"
      },
      "source": [
        "logistic_reg_model_wend <- glm(Walc ~ ., data=data_wend[,1:43])\n",
        "summary(logistic_reg_model_wend)"
      ],
      "execution_count": 40,
      "outputs": [
        {
          "output_type": "display_data",
          "data": {
            "text/plain": [
              "\n",
              "Call:\n",
              "glm(formula = Walc ~ ., data = data_wend[, 1:43])\n",
              "\n",
              "Deviance Residuals: \n",
              "    Min       1Q   Median       3Q      Max  \n",
              "-3.4474  -0.7565  -0.1234   0.7109   3.0695  \n",
              "\n",
              "Coefficients: (4 not defined because of singularities)\n",
              "                   Estimate Std. Error t value Pr(>|t|)    \n",
              "(Intercept)        0.248918   0.712454   0.349 0.726877    \n",
              "school            -0.068565   0.089607  -0.765 0.444344    \n",
              "sex                0.613484   0.074070   8.283 3.82e-16 ***\n",
              "age                0.057688   0.031437   1.835 0.066791 .  \n",
              "address           -0.129840   0.083853  -1.548 0.121832    \n",
              "famsize           -0.192496   0.075653  -2.544 0.011093 *  \n",
              "Pstatus            0.099042   0.109097   0.908 0.364188    \n",
              "Medu              -0.084056   0.047609  -1.766 0.077779 .  \n",
              "Fedu               0.095630   0.042446   2.253 0.024477 *  \n",
              "traveltime         0.055952   0.050264   1.113 0.265904    \n",
              "studytime         -0.175039   0.043654  -4.010 6.53e-05 ***\n",
              "failures           0.028970   0.059088   0.490 0.624043    \n",
              "schoolsup         -0.059572   0.110009  -0.542 0.588270    \n",
              "famsup            -0.052851   0.071450  -0.740 0.459659    \n",
              "paid               0.192780   0.084446   2.283 0.022645 *  \n",
              "activities        -0.093359   0.068816  -1.357 0.175196    \n",
              "nursery           -0.248330   0.084104  -2.953 0.003224 ** \n",
              "higher             0.039062   0.130628   0.299 0.764975    \n",
              "internet           0.025843   0.088797   0.291 0.771085    \n",
              "romantic           0.004024   0.071852   0.056 0.955348    \n",
              "famrel            -0.222050   0.036136  -6.145 1.15e-09 ***\n",
              "freetime          -0.024994   0.035200  -0.710 0.477832    \n",
              "goout              0.433115   0.031036  13.955  < 2e-16 ***\n",
              "health             0.090299   0.024194   3.732 0.000200 ***\n",
              "absences           0.021054   0.005649   3.727 0.000205 ***\n",
              "avggrades         -0.008187   0.011975  -0.684 0.494315    \n",
              "Fjob_at_home       0.272060   0.204726   1.329 0.184183    \n",
              "Fjob_health        0.299638   0.220379   1.360 0.174246    \n",
              "Fjob_other         0.553737   0.155415   3.563 0.000384 ***\n",
              "Fjob_services      0.741887   0.158538   4.680 3.27e-06 ***\n",
              "Fjob_teacher             NA         NA      NA       NA    \n",
              "Mjob_at_home      -0.070215   0.155918  -0.450 0.652569    \n",
              "Mjob_health       -0.124039   0.157735  -0.786 0.431834    \n",
              "Mjob_other        -0.241001   0.133098  -1.811 0.070486 .  \n",
              "Mjob_services     -0.162957   0.127567  -1.277 0.201747    \n",
              "Mjob_teacher             NA         NA      NA       NA    \n",
              "reason_course     -0.112117   0.090885  -1.234 0.217632    \n",
              "reason_home       -0.054556   0.097975  -0.557 0.577764    \n",
              "reason_other       0.137884   0.129873   1.062 0.288634    \n",
              "reason_reputation        NA         NA      NA       NA    \n",
              "guardian_father    0.419143   0.158833   2.639 0.008447 ** \n",
              "guardian_mother    0.307193   0.144873   2.120 0.034215 *  \n",
              "guardian_other           NA         NA      NA       NA    \n",
              "---\n",
              "Signif. codes:  0 ‘***’ 0.001 ‘**’ 0.01 ‘*’ 0.05 ‘.’ 0.1 ‘ ’ 1\n",
              "\n",
              "(Dispersion parameter for gaussian family taken to be 1.104543)\n",
              "\n",
              "    Null deviance: 1722.5  on 1043  degrees of freedom\n",
              "Residual deviance: 1110.1  on 1005  degrees of freedom\n",
              "AIC: 3106.8\n",
              "\n",
              "Number of Fisher Scoring iterations: 2\n"
            ]
          },
          "metadata": {
            "tags": []
          }
        }
      ]
    },
    {
      "cell_type": "code",
      "metadata": {
        "id": "yosidGd5DO82",
        "colab_type": "code",
        "colab": {
          "base_uri": "https://localhost:8080/",
          "height": 612
        },
        "outputId": "12b275ec-366d-48b0-ea97-c307911a957a"
      },
      "source": [
        "predictedY <- predict(logistic_reg_model_wend)\n",
        "Y <- data_wend$Walc\n",
        "\n",
        "evaluate_model(Y, predictedY, ncol(data_wend))"
      ],
      "execution_count": 41,
      "outputs": [
        {
          "output_type": "stream",
          "text": [
            "[1] \"RMSE: 1.03115533577928\"\n",
            "Confusion Matrix and Statistics\n",
            "\n",
            "          Reference\n",
            "Prediction   1   2   3   4   5\n",
            "         1 106 242  46   4   0\n",
            "         2  37 128  66   4   0\n",
            "         3  19  79  97   5   0\n",
            "         4   1  30  79  28   0\n",
            "         5   0   5  37  30   1\n",
            "\n",
            "Overall Statistics\n",
            "                                         \n",
            "               Accuracy : 0.3448         \n",
            "                 95% CI : (0.316, 0.3745)\n",
            "    No Information Rate : 0.4636         \n",
            "    P-Value [Acc > NIR] : 1              \n",
            "                                         \n",
            "                  Kappa : 0.1463         \n",
            "                                         \n",
            " Mcnemar's Test P-Value : NA             \n",
            "\n",
            "Statistics by Class:\n",
            "\n",
            "                     Class: 1 Class: 2 Class: 3 Class: 4  Class: 5\n",
            "Sensitivity            0.6503   0.2645  0.29846  0.39437 1.0000000\n",
            "Specificity            0.6686   0.8089  0.85675  0.88695 0.9309684\n",
            "Pos Pred Value         0.2663   0.5447  0.48500  0.20290 0.0136986\n",
            "Neg Pred Value         0.9118   0.5600  0.72986  0.95254 1.0000000\n",
            "Prevalence             0.1561   0.4636  0.31130  0.06801 0.0009579\n",
            "Detection Rate         0.1015   0.1226  0.09291  0.02682 0.0009579\n",
            "Detection Prevalence   0.3812   0.2251  0.19157  0.13218 0.0699234\n",
            "Balanced Accuracy      0.6594   0.5367  0.57760  0.64066 0.9654842\n",
            "[1] \"Coefficient of determination: 0.64444711134618\"\n",
            "[1] \"Coefficient of variation: 0.461196983431141\"\n"
          ],
          "name": "stdout"
        }
      ]
    },
    {
      "cell_type": "markdown",
      "metadata": {
        "colab_type": "text",
        "id": "cLilB_Ljn8QT"
      },
      "source": [
        "#### Regresja grzbietowa"
      ]
    },
    {
      "cell_type": "code",
      "metadata": {
        "id": "71yxc8xTpQFu",
        "colab_type": "code",
        "colab": {}
      },
      "source": [
        "y_wend <- data_wend$Walc\n",
        "x_wend <- data_wend[,1:42] %>% data.matrix()\n",
        "\n",
        "lambdas <- 10^seq(3, -2, by = -.1)"
      ],
      "execution_count": 0,
      "outputs": []
    },
    {
      "cell_type": "code",
      "metadata": {
        "id": "yWlyagvbpbwt",
        "colab_type": "code",
        "colab": {
          "base_uri": "https://localhost:8080/",
          "height": 238
        },
        "outputId": "4b62a6b2-e0cf-4e19-b3ce-31b777c8b9aa"
      },
      "source": [
        "ridge_reg_model_wend <- cv.glmnet(x_wend, y_wend, alpha=0, lambda=lambdas)\n",
        "summary(ridge_reg_model_wend)\n",
        "\n",
        "opt_lambda <- ridge_reg_model_wend$lambda.min\n",
        "print(opt_lambda)"
      ],
      "execution_count": 43,
      "outputs": [
        {
          "output_type": "display_data",
          "data": {
            "text/plain": [
              "           Length Class  Mode     \n",
              "lambda     51     -none- numeric  \n",
              "cvm        51     -none- numeric  \n",
              "cvsd       51     -none- numeric  \n",
              "cvup       51     -none- numeric  \n",
              "cvlo       51     -none- numeric  \n",
              "nzero      51     -none- numeric  \n",
              "call        5     -none- call     \n",
              "name        1     -none- character\n",
              "glmnet.fit 12     elnet  list     \n",
              "lambda.min  1     -none- numeric  \n",
              "lambda.1se  1     -none- numeric  "
            ]
          },
          "metadata": {
            "tags": []
          }
        },
        {
          "output_type": "stream",
          "text": [
            "[1] 0.1258925\n"
          ],
          "name": "stdout"
        }
      ]
    },
    {
      "cell_type": "code",
      "metadata": {
        "id": "vAcLBX5cDhax",
        "colab_type": "code",
        "colab": {
          "base_uri": "https://localhost:8080/",
          "height": 612
        },
        "outputId": "7e32c8c0-2d37-4d3b-f537-54a0572b095e"
      },
      "source": [
        "predictedY <- predict(ridge_reg_model_wend, newx=x_wdays, s=opt_lambda)\n",
        "Y <- data_wend$Walc\n",
        "\n",
        "evaluate_model(Y, predictedY, ncol(data_wend))"
      ],
      "execution_count": 44,
      "outputs": [
        {
          "output_type": "stream",
          "text": [
            "[1] \"RMSE: 1.03354650078889\"\n",
            "Confusion Matrix and Statistics\n",
            "\n",
            "          Reference\n",
            "Prediction   1   2   3   4   5\n",
            "         1  95 257  44   2   0\n",
            "         2  29 140  64   2   0\n",
            "         3  13  90  95   2   0\n",
            "         4   1  31  85  21   0\n",
            "         5   0   5  43  25   0\n",
            "\n",
            "Overall Statistics\n",
            "                                          \n",
            "               Accuracy : 0.3362          \n",
            "                 95% CI : (0.3076, 0.3658)\n",
            "    No Information Rate : 0.501           \n",
            "    P-Value [Acc > NIR] : 1               \n",
            "                                          \n",
            "                  Kappa : 0.1374          \n",
            "                                          \n",
            " Mcnemar's Test P-Value : NA              \n",
            "\n",
            "Statistics by Class:\n",
            "\n",
            "                     Class: 1 Class: 2 Class: 3 Class: 4 Class: 5\n",
            "Sensitivity            0.6884   0.2677   0.2870  0.40385       NA\n",
            "Specificity            0.6656   0.8177   0.8527  0.88206  0.93008\n",
            "Pos Pred Value         0.2387   0.5957   0.4750  0.15217       NA\n",
            "Neg Pred Value         0.9334   0.5266   0.7204  0.96578       NA\n",
            "Prevalence             0.1322   0.5010   0.3170  0.04981  0.00000\n",
            "Detection Rate         0.0910   0.1341   0.0910  0.02011  0.00000\n",
            "Detection Prevalence   0.3812   0.2251   0.1916  0.13218  0.06992\n",
            "Balanced Accuracy      0.6770   0.5427   0.5699  0.64295       NA\n",
            "[1] \"Coefficient of determination: 0.647439417223552\"\n",
            "[1] \"Coefficient of variation: 0.462266461569939\"\n"
          ],
          "name": "stdout"
        }
      ]
    },
    {
      "cell_type": "markdown",
      "metadata": {
        "colab_type": "text",
        "id": "dxXZQKk-oOPk"
      },
      "source": [
        "#### Regresja Lasso"
      ]
    },
    {
      "cell_type": "code",
      "metadata": {
        "id": "I5tJkTXIpjSA",
        "colab_type": "code",
        "colab": {
          "base_uri": "https://localhost:8080/",
          "height": 238
        },
        "outputId": "fdcc86d0-fc22-4fa3-9718-84b24713b1e8"
      },
      "source": [
        "lasso_reg_model_wend <- cv.glmnet(x_wend, y_wend, alpha=1, lambda=lambdas)\n",
        "summary(lasso_reg_model_wend)\n",
        "\n",
        "opt_lambda <- lasso_reg_model_wend$lambda.min\n",
        "print(opt_lambda)"
      ],
      "execution_count": 45,
      "outputs": [
        {
          "output_type": "display_data",
          "data": {
            "text/plain": [
              "           Length Class  Mode     \n",
              "lambda     51     -none- numeric  \n",
              "cvm        51     -none- numeric  \n",
              "cvsd       51     -none- numeric  \n",
              "cvup       51     -none- numeric  \n",
              "cvlo       51     -none- numeric  \n",
              "nzero      51     -none- numeric  \n",
              "call        5     -none- call     \n",
              "name        1     -none- character\n",
              "glmnet.fit 12     elnet  list     \n",
              "lambda.min  1     -none- numeric  \n",
              "lambda.1se  1     -none- numeric  "
            ]
          },
          "metadata": {
            "tags": []
          }
        },
        {
          "output_type": "stream",
          "text": [
            "[1] 0.01\n"
          ],
          "name": "stdout"
        }
      ]
    },
    {
      "cell_type": "code",
      "metadata": {
        "id": "tddGVQjpDxe0",
        "colab_type": "code",
        "colab": {
          "base_uri": "https://localhost:8080/",
          "height": 612
        },
        "outputId": "1de40a12-a9b4-40d5-8636-59b62277fafe"
      },
      "source": [
        "predictedY <- predict(lasso_reg_model_wend, newx=x_wdays, s=opt_lambda)\n",
        "Y <- data_wend$Walc\n",
        "\n",
        "evaluate_model(Y, predictedY, ncol(data_wend))"
      ],
      "execution_count": 46,
      "outputs": [
        {
          "output_type": "stream",
          "text": [
            "[1] \"RMSE: 1.03333298521491\"\n",
            "Confusion Matrix and Statistics\n",
            "\n",
            "          Reference\n",
            "Prediction   1   2   3   4   5\n",
            "         1 100 245  50   3   0\n",
            "         2  32 132  67   4   0\n",
            "         3  19  81  95   5   0\n",
            "         4   1  29  84  24   0\n",
            "         5   0   5  39  29   0\n",
            "\n",
            "Overall Statistics\n",
            "                                          \n",
            "               Accuracy : 0.3362          \n",
            "                 95% CI : (0.3076, 0.3658)\n",
            "    No Information Rate : 0.4713          \n",
            "    P-Value [Acc > NIR] : 1               \n",
            "                                          \n",
            "                  Kappa : 0.1365          \n",
            "                                          \n",
            " Mcnemar's Test P-Value : NA              \n",
            "\n",
            "Statistics by Class:\n",
            "\n",
            "                     Class: 1 Class: 2 Class: 3 Class: 4 Class: 5\n",
            "Sensitivity           0.65789   0.2683   0.2836  0.36923       NA\n",
            "Specificity           0.66592   0.8134   0.8519  0.88355  0.93008\n",
            "Pos Pred Value        0.25126   0.5617   0.4750  0.17391       NA\n",
            "Neg Pred Value        0.91950   0.5550   0.7156  0.95475       NA\n",
            "Prevalence            0.14559   0.4713   0.3209  0.06226  0.00000\n",
            "Detection Rate        0.09579   0.1264   0.0910  0.02299  0.00000\n",
            "Detection Prevalence  0.38123   0.2251   0.1916  0.13218  0.06992\n",
            "Balanced Accuracy     0.66191   0.5408   0.5677  0.62639       NA\n",
            "[1] \"Coefficient of determination: 0.647171941846936\"\n",
            "[1] \"Coefficient of variation: 0.462170964087435\"\n"
          ],
          "name": "stdout"
        }
      ]
    },
    {
      "cell_type": "markdown",
      "metadata": {
        "colab_type": "text",
        "id": "yclpeljNoWpk"
      },
      "source": [
        "#### Regresja Elastic Net"
      ]
    },
    {
      "cell_type": "code",
      "metadata": {
        "id": "wGa2yntnpqqQ",
        "colab_type": "code",
        "colab": {
          "base_uri": "https://localhost:8080/",
          "height": 238
        },
        "outputId": "dd880535-c598-41ab-87a9-c0dd2691514a"
      },
      "source": [
        "elastic_net_025_reg_model_wend <- cv.glmnet(x_wend, y_wend, alpha=0.25, lambda=lambdas)\n",
        "summary(elastic_net_025_reg_model_wend)\n",
        "\n",
        "opt_lambda <- elastic_net_025_reg_model_wend$lambda.min\n",
        "print(opt_lambda)"
      ],
      "execution_count": 47,
      "outputs": [
        {
          "output_type": "display_data",
          "data": {
            "text/plain": [
              "           Length Class  Mode     \n",
              "lambda     51     -none- numeric  \n",
              "cvm        51     -none- numeric  \n",
              "cvsd       51     -none- numeric  \n",
              "cvup       51     -none- numeric  \n",
              "cvlo       51     -none- numeric  \n",
              "nzero      51     -none- numeric  \n",
              "call        5     -none- call     \n",
              "name        1     -none- character\n",
              "glmnet.fit 12     elnet  list     \n",
              "lambda.min  1     -none- numeric  \n",
              "lambda.1se  1     -none- numeric  "
            ]
          },
          "metadata": {
            "tags": []
          }
        },
        {
          "output_type": "stream",
          "text": [
            "[1] 0.03981072\n"
          ],
          "name": "stdout"
        }
      ]
    },
    {
      "cell_type": "code",
      "metadata": {
        "id": "PTLV71e4EIqz",
        "colab_type": "code",
        "colab": {
          "base_uri": "https://localhost:8080/",
          "height": 612
        },
        "outputId": "a8fb0b94-3b12-412d-86c9-4a5df9ab41e8"
      },
      "source": [
        "predictedY <- predict(elastic_net_025_reg_model_wend, newx=x_wdays, s=opt_lambda)\n",
        "Y <- data_wend$Walc\n",
        "\n",
        "evaluate_model(Y, predictedY, ncol(data_wend))"
      ],
      "execution_count": 48,
      "outputs": [
        {
          "output_type": "stream",
          "text": [
            "[1] \"RMSE: 1.03409377795291\"\n",
            "Confusion Matrix and Statistics\n",
            "\n",
            "          Reference\n",
            "Prediction   1   2   3   4   5\n",
            "         1  96 252  48   2   0\n",
            "         2  30 135  66   4   0\n",
            "         3  18  82  95   5   0\n",
            "         4   1  29  85  23   0\n",
            "         5   0   6  39  28   0\n",
            "\n",
            "Overall Statistics\n",
            "                                          \n",
            "               Accuracy : 0.3343          \n",
            "                 95% CI : (0.3057, 0.3638)\n",
            "    No Information Rate : 0.4828          \n",
            "    P-Value [Acc > NIR] : 1               \n",
            "                                          \n",
            "                  Kappa : 0.1348          \n",
            "                                          \n",
            " Mcnemar's Test P-Value : NA              \n",
            "\n",
            "Statistics by Class:\n",
            "\n",
            "                     Class: 1 Class: 2 Class: 3 Class: 4 Class: 5\n",
            "Sensitivity           0.66207   0.2679   0.2853  0.37097       NA\n",
            "Specificity           0.66407   0.8148   0.8523  0.88289  0.93008\n",
            "Pos Pred Value        0.24121   0.5745   0.4750  0.16667       NA\n",
            "Neg Pred Value        0.92415   0.5439   0.7180  0.95695       NA\n",
            "Prevalence            0.13889   0.4828   0.3190  0.05939  0.00000\n",
            "Detection Rate        0.09195   0.1293   0.0910  0.02203  0.00000\n",
            "Detection Prevalence  0.38123   0.2251   0.1916  0.13218  0.06992\n",
            "Balanced Accuracy     0.66307   0.5413   0.5688  0.62693       NA\n",
            "[1] \"Coefficient of determination: 0.648125255004169\"\n",
            "[1] \"Coefficient of variation: 0.462511238053546\"\n"
          ],
          "name": "stdout"
        }
      ]
    },
    {
      "cell_type": "code",
      "metadata": {
        "id": "c20LrhZqpwnA",
        "colab_type": "code",
        "colab": {
          "base_uri": "https://localhost:8080/",
          "height": 238
        },
        "outputId": "14787c14-7904-4266-fe4d-582943deb4c7"
      },
      "source": [
        "elastic_net_05_reg_model_wend <- cv.glmnet(x_wend, y_wend, alpha=0.5, lambda=lambdas)\n",
        "summary(elastic_net_05_reg_model_wend)\n",
        "\n",
        "opt_lambda <- elastic_net_05_reg_model_wend$lambda.min\n",
        "print(opt_lambda)"
      ],
      "execution_count": 49,
      "outputs": [
        {
          "output_type": "display_data",
          "data": {
            "text/plain": [
              "           Length Class  Mode     \n",
              "lambda     51     -none- numeric  \n",
              "cvm        51     -none- numeric  \n",
              "cvsd       51     -none- numeric  \n",
              "cvup       51     -none- numeric  \n",
              "cvlo       51     -none- numeric  \n",
              "nzero      51     -none- numeric  \n",
              "call        5     -none- call     \n",
              "name        1     -none- character\n",
              "glmnet.fit 12     elnet  list     \n",
              "lambda.min  1     -none- numeric  \n",
              "lambda.1se  1     -none- numeric  "
            ]
          },
          "metadata": {
            "tags": []
          }
        },
        {
          "output_type": "stream",
          "text": [
            "[1] 0.02511886\n"
          ],
          "name": "stdout"
        }
      ]
    },
    {
      "cell_type": "code",
      "metadata": {
        "id": "Crc1pwzKEJnS",
        "colab_type": "code",
        "colab": {
          "base_uri": "https://localhost:8080/",
          "height": 612
        },
        "outputId": "3b06b2cf-e873-4baa-b296-439807310a32"
      },
      "source": [
        "predictedY <- predict(elastic_net_05_reg_model_wend, newx=x_wdays, s=opt_lambda)\n",
        "Y <- data_wend$Walc\n",
        "\n",
        "evaluate_model(Y, predictedY, ncol(data_wend))"
      ],
      "execution_count": 50,
      "outputs": [
        {
          "output_type": "stream",
          "text": [
            "[1] \"RMSE: 1.03485984576693\"\n",
            "Confusion Matrix and Statistics\n",
            "\n",
            "          Reference\n",
            "Prediction   1   2   3   4   5\n",
            "         1  96 251  49   2   0\n",
            "         2  30 134  67   4   0\n",
            "         3  17  83  96   4   0\n",
            "         4   1  28  86  23   0\n",
            "         5   0   6  40  27   0\n",
            "\n",
            "Overall Statistics\n",
            "                                          \n",
            "               Accuracy : 0.3343          \n",
            "                 95% CI : (0.3057, 0.3638)\n",
            "    No Information Rate : 0.4808          \n",
            "    P-Value [Acc > NIR] : 1               \n",
            "                                          \n",
            "                  Kappa : 0.135           \n",
            "                                          \n",
            " Mcnemar's Test P-Value : NA              \n",
            "\n",
            "Statistics by Class:\n",
            "\n",
            "                     Class: 1 Class: 2 Class: 3 Class: 4 Class: 5\n",
            "Sensitivity           0.66667   0.2669  0.28402  0.38333       NA\n",
            "Specificity           0.66444   0.8137  0.85269  0.88313  0.93008\n",
            "Pos Pred Value        0.24121   0.5702  0.48000  0.16667       NA\n",
            "Neg Pred Value        0.92570   0.5451  0.71327  0.95916       NA\n",
            "Prevalence            0.13793   0.4808  0.32375  0.05747  0.00000\n",
            "Detection Rate        0.09195   0.1284  0.09195  0.02203  0.00000\n",
            "Detection Prevalence  0.38123   0.2251  0.19157  0.13218  0.06992\n",
            "Balanced Accuracy     0.66556   0.5403  0.56836  0.63323       NA\n",
            "[1] \"Coefficient of determination: 0.649085887041809\"\n",
            "[1] \"Coefficient of variation: 0.462853871362681\"\n"
          ],
          "name": "stdout"
        }
      ]
    },
    {
      "cell_type": "code",
      "metadata": {
        "id": "arUULc6vp09O",
        "colab_type": "code",
        "colab": {
          "base_uri": "https://localhost:8080/",
          "height": 238
        },
        "outputId": "d947e5ff-40f8-4f7b-85d7-4415ee581289"
      },
      "source": [
        "elastic_net_075_reg_model_wend <- cv.glmnet(x_wend, y_wend, alpha=0.75, lambda=lambdas)\n",
        "summary(elastic_net_075_reg_model_wend)\n",
        "\n",
        "opt_lambda <- elastic_net_075_reg_model_wend$lambda.min\n",
        "print(opt_lambda)"
      ],
      "execution_count": 51,
      "outputs": [
        {
          "output_type": "display_data",
          "data": {
            "text/plain": [
              "           Length Class  Mode     \n",
              "lambda     51     -none- numeric  \n",
              "cvm        51     -none- numeric  \n",
              "cvsd       51     -none- numeric  \n",
              "cvup       51     -none- numeric  \n",
              "cvlo       51     -none- numeric  \n",
              "nzero      51     -none- numeric  \n",
              "call        5     -none- call     \n",
              "name        1     -none- character\n",
              "glmnet.fit 12     elnet  list     \n",
              "lambda.min  1     -none- numeric  \n",
              "lambda.1se  1     -none- numeric  "
            ]
          },
          "metadata": {
            "tags": []
          }
        },
        {
          "output_type": "stream",
          "text": [
            "[1] 0.01995262\n"
          ],
          "name": "stdout"
        }
      ]
    },
    {
      "cell_type": "code",
      "metadata": {
        "id": "t36a-IAcEKNW",
        "colab_type": "code",
        "colab": {
          "base_uri": "https://localhost:8080/",
          "height": 612
        },
        "outputId": "88f172c6-bdfe-449e-d072-7ee9a1269160"
      },
      "source": [
        "predictedY <- predict(elastic_net_075_reg_model_wend, newx=x_wdays, s=opt_lambda)\n",
        "Y <- data_wend$Walc\n",
        "\n",
        "evaluate_model(Y, predictedY, ncol(data_wend))"
      ],
      "execution_count": 52,
      "outputs": [
        {
          "output_type": "stream",
          "text": [
            "[1] \"RMSE: 1.03587501920606\"\n",
            "Confusion Matrix and Statistics\n",
            "\n",
            "          Reference\n",
            "Prediction   1   2   3   4   5\n",
            "         1  98 248  50   2   0\n",
            "         2  30 135  66   4   0\n",
            "         3  17  84  95   4   0\n",
            "         4   1  28  86  23   0\n",
            "         5   0   6  41  26   0\n",
            "\n",
            "Overall Statistics\n",
            "                                          \n",
            "               Accuracy : 0.3362          \n",
            "                 95% CI : (0.3076, 0.3658)\n",
            "    No Information Rate : 0.4799          \n",
            "    P-Value [Acc > NIR] : 1               \n",
            "                                          \n",
            "                  Kappa : 0.137           \n",
            "                                          \n",
            " Mcnemar's Test P-Value : NA              \n",
            "\n",
            "Statistics by Class:\n",
            "\n",
            "                     Class: 1 Class: 2 Class: 3 Class: 4 Class: 5\n",
            "Sensitivity           0.67123   0.2695   0.2811  0.38983       NA\n",
            "Specificity           0.66592   0.8158   0.8513  0.88325  0.93008\n",
            "Pos Pred Value        0.24623   0.5745   0.4750  0.16667       NA\n",
            "Neg Pred Value        0.92570   0.5476   0.7121  0.96026       NA\n",
            "Prevalence            0.13985   0.4799   0.3238  0.05651  0.00000\n",
            "Detection Rate        0.09387   0.1293   0.0910  0.02203  0.00000\n",
            "Detection Prevalence  0.38123   0.2251   0.1916  0.13218  0.06992\n",
            "Balanced Accuracy     0.66858   0.5426   0.5662  0.63654       NA\n",
            "[1] \"Coefficient of determination: 0.650359987983634\"\n",
            "[1] \"Coefficient of variation: 0.463307920245078\"\n"
          ],
          "name": "stdout"
        }
      ]
    },
    {
      "cell_type": "markdown",
      "metadata": {
        "colab_type": "text",
        "id": "jHnzv5P_oZr1"
      },
      "source": [
        "#### Regresja Wektorów Nośnych"
      ]
    },
    {
      "cell_type": "code",
      "metadata": {
        "id": "EyQNpTq4qAPI",
        "colab_type": "code",
        "colab": {
          "base_uri": "https://localhost:8080/",
          "height": 437
        },
        "outputId": "0fd8e50b-f8b0-4e41-998f-83fca9e04647"
      },
      "source": [
        "tune_results <- tune(svm, x_wend, y_wend, svm = \"regression\", kernel=\"linear\",\n",
        "                     ranges = list(epsilon = seq(0, 1, 0.2), cost = 2^(1:6)))\n",
        "\n",
        "plot(tune_results)"
      ],
      "execution_count": 53,
      "outputs": [
        {
          "output_type": "display_data",
          "data": {
            "image/png": "[encoded data removed]",
            "text/plain": [
              "Plot with title “Performance of `svm'”"
            ]
          },
          "metadata": {
            "tags": [],
            "image/png": {
              "width": 420,
              "height": 420
            },
            "text/plain": {
              "width": 420,
              "height": 420
            }
          }
        }
      ]
    },
    {
      "cell_type": "code",
      "metadata": {
        "id": "G_ptkHIvqF0f",
        "colab_type": "code",
        "colab": {
          "base_uri": "https://localhost:8080/",
          "height": 340
        },
        "outputId": "72ba6617-f5ef-428a-d512-cc0270bcae2f"
      },
      "source": [
        "svrl_model_wend <- tune_results$best.model\n",
        "summary(svrl_model_wend)"
      ],
      "execution_count": 54,
      "outputs": [
        {
          "output_type": "display_data",
          "data": {
            "text/plain": [
              "\n",
              "Call:\n",
              "best.tune(method = svm, train.x = x_wend, train.y = y_wend, ranges = list(epsilon = seq(0, \n",
              "    1, 0.2), cost = 2^(1:6)), svm = \"regression\", kernel = \"linear\")\n",
              "\n",
              "\n",
              "Parameters:\n",
              "   SVM-Type:  eps-regression \n",
              " SVM-Kernel:  linear \n",
              "       cost:  64 \n",
              "      gamma:  0.02380952 \n",
              "    epsilon:  0.8 \n",
              "\n",
              "\n",
              "Number of Support Vectors:  392\n",
              "\n",
              "\n",
              "\n",
              "\n"
            ]
          },
          "metadata": {
            "tags": []
          }
        }
      ]
    },
    {
      "cell_type": "code",
      "metadata": {
        "id": "ibfgdvWREXR_",
        "colab_type": "code",
        "colab": {
          "base_uri": "https://localhost:8080/",
          "height": 612
        },
        "outputId": "2ee56d07-de79-48c6-fc72-f73af71dae07"
      },
      "source": [
        "predictedY <- predict(svrl_model_wend, x=x_wend)\n",
        "Y <- data_wend$Walc\n",
        "\n",
        "evaluate_model(Y, predictedY, ncol(data_wend))"
      ],
      "execution_count": 55,
      "outputs": [
        {
          "output_type": "stream",
          "text": [
            "[1] \"RMSE: 1.04351814746808\"\n",
            "Confusion Matrix and Statistics\n",
            "\n",
            "          Reference\n",
            "Prediction   1   2   3   4   5\n",
            "         1  80 267  48   3   0\n",
            "         2  27 131  75   2   0\n",
            "         3  11  91  91   7   0\n",
            "         4   1  29  89  19   0\n",
            "         5   0   7  37  29   0\n",
            "\n",
            "Overall Statistics\n",
            "                                          \n",
            "               Accuracy : 0.3075          \n",
            "                 95% CI : (0.2796, 0.3365)\n",
            "    No Information Rate : 0.5029          \n",
            "    P-Value [Acc > NIR] : 1               \n",
            "                                          \n",
            "                  Kappa : 0.1045          \n",
            "                                          \n",
            " Mcnemar's Test P-Value : NA              \n",
            "\n",
            "Statistics by Class:\n",
            "\n",
            "                     Class: 1 Class: 2 Class: 3 Class: 4 Class: 5\n",
            "Sensitivity           0.67227   0.2495  0.26765  0.31667       NA\n",
            "Specificity           0.65622   0.7996  0.84517  0.87907  0.93008\n",
            "Pos Pred Value        0.20101   0.5574  0.45500  0.13768       NA\n",
            "Neg Pred Value        0.93963   0.5130  0.70498  0.95475       NA\n",
            "Prevalence            0.11398   0.5029  0.32567  0.05747  0.00000\n",
            "Detection Rate        0.07663   0.1255  0.08716  0.01820  0.00000\n",
            "Detection Prevalence  0.38123   0.2251  0.19157  0.13218  0.06992\n",
            "Balanced Accuracy     0.66424   0.5246  0.55641  0.59787       NA\n",
            "[1] \"Coefficient of determination: 0.659992661807546\"\n",
            "[1] \"Coefficient of variation: 0.466726403936244\"\n"
          ],
          "name": "stdout"
        }
      ]
    },
    {
      "cell_type": "code",
      "metadata": {
        "id": "iNyA_8h4q1Pg",
        "colab_type": "code",
        "colab": {
          "base_uri": "https://localhost:8080/",
          "height": 437
        },
        "outputId": "c6d6155b-1612-4a30-9de8-e206a1f2686d"
      },
      "source": [
        "tune_results <- tune(svm, x_wend, y_wend, svm = \"regression\", kernel=\"radial\",\n",
        "                     ranges = list(epsilon = seq(0, 1.0, 0.1), cost = 2^(-1:5)))\n",
        "\n",
        "plot(tune_results)"
      ],
      "execution_count": 56,
      "outputs": [
        {
          "output_type": "display_data",
          "data": {
            "image/png": "[encoded data removed]",
            "text/plain": [
              "Plot with title “Performance of `svm'”"
            ]
          },
          "metadata": {
            "tags": [],
            "image/png": {
              "width": 420,
              "height": 420
            },
            "text/plain": {
              "width": 420,
              "height": 420
            }
          }
        }
      ]
    },
    {
      "cell_type": "code",
      "metadata": {
        "id": "4vzXbwS6q7yd",
        "colab_type": "code",
        "colab": {
          "base_uri": "https://localhost:8080/",
          "height": 340
        },
        "outputId": "fc6d3c9c-5080-4584-f8b0-155c78560b56"
      },
      "source": [
        "svrr_model_wend <- tune_results$best.model\n",
        "summary(svrr_model_wend)"
      ],
      "execution_count": 57,
      "outputs": [
        {
          "output_type": "display_data",
          "data": {
            "text/plain": [
              "\n",
              "Call:\n",
              "best.tune(method = svm, train.x = x_wend, train.y = y_wend, ranges = list(epsilon = seq(0, \n",
              "    1, 0.1), cost = 2^(-1:5)), svm = \"regression\", kernel = \"radial\")\n",
              "\n",
              "\n",
              "Parameters:\n",
              "   SVM-Type:  eps-regression \n",
              " SVM-Kernel:  radial \n",
              "       cost:  32 \n",
              "      gamma:  0.02380952 \n",
              "    epsilon:  0 \n",
              "\n",
              "\n",
              "Number of Support Vectors:  1041\n",
              "\n",
              "\n",
              "\n",
              "\n"
            ]
          },
          "metadata": {
            "tags": []
          }
        }
      ]
    },
    {
      "cell_type": "code",
      "metadata": {
        "id": "iJtV4p4CEYLg",
        "colab_type": "code",
        "colab": {
          "base_uri": "https://localhost:8080/",
          "height": 612
        },
        "outputId": "327cb39c-57c9-4dea-cb56-693ab222fb72"
      },
      "source": [
        "predictedY <- predict(svrr_model_wend, x=x_wend)\n",
        "Y <- data_wend$Walc\n",
        "\n",
        "evaluate_model(Y, predictedY, ncol(data_wend))"
      ],
      "execution_count": 58,
      "outputs": [
        {
          "output_type": "stream",
          "text": [
            "[1] \"RMSE: 0.00027409849676087\"\n",
            "Confusion Matrix and Statistics\n",
            "\n",
            "          Reference\n",
            "Prediction   1   2   3   4   5\n",
            "         1 398   0   0   0   0\n",
            "         2   0 235   0   0   0\n",
            "         3   0   0 200   0   0\n",
            "         4   0   0   0 138   0\n",
            "         5   0   0   0   0  73\n",
            "\n",
            "Overall Statistics\n",
            "                                     \n",
            "               Accuracy : 1          \n",
            "                 95% CI : (0.9965, 1)\n",
            "    No Information Rate : 0.3812     \n",
            "    P-Value [Acc > NIR] : < 2.2e-16  \n",
            "                                     \n",
            "                  Kappa : 1          \n",
            "                                     \n",
            " Mcnemar's Test P-Value : NA         \n",
            "\n",
            "Statistics by Class:\n",
            "\n",
            "                     Class: 1 Class: 2 Class: 3 Class: 4 Class: 5\n",
            "Sensitivity            1.0000   1.0000   1.0000   1.0000  1.00000\n",
            "Specificity            1.0000   1.0000   1.0000   1.0000  1.00000\n",
            "Pos Pred Value         1.0000   1.0000   1.0000   1.0000  1.00000\n",
            "Neg Pred Value         1.0000   1.0000   1.0000   1.0000  1.00000\n",
            "Prevalence             0.3812   0.2251   0.1916   0.1322  0.06992\n",
            "Detection Rate         0.3812   0.2251   0.1916   0.1322  0.06992\n",
            "Detection Prevalence   0.3812   0.2251   0.1916   0.1322  0.06992\n",
            "Balanced Accuracy      1.0000   1.0000   1.0000   1.0000  1.00000\n",
            "[1] \"Coefficient of determination: 4.55357403528894e-08\"\n",
            "[1] \"Coefficient of variation: 0.000122593944367838\"\n"
          ],
          "name": "stdout"
        }
      ]
    },
    {
      "cell_type": "markdown",
      "metadata": {
        "id": "pFU99u99Qf2t",
        "colab_type": "text"
      },
      "source": [
        "# Wnioski"
      ]
    },
    {
      "cell_type": "markdown",
      "metadata": {
        "id": "tKh_EHSFQo6g",
        "colab_type": "text"
      },
      "source": [
        "\n",
        "Podsumowując, należałoby ocenić, czy tak zbudowane modele posiadałyby jakąkolwiek użyteczną funkcjonalność w dzisiejszych czasach i wyciągnąć kilka wniosków:\n",
        "* Wartości atrybutów klasy `Dalc` w udostępnionym zbiorze danych były mocno niezbalansowane. Spośród 1043 rekordów, jedynie po 26 posiadało wartość 4 lub 5, co miało duży wpływ na predykcje modeli regresji.\n",
        "* Maszyny wektorów nośnych, choć realizujące w przeważającej liczbie przypadków zadania klasyfikacyjne, mogą z powodzeniem być wykorzystywane do budowy modelów regresorów.\n",
        "* Stopień skomplikowania i pojemność modelu jest niezależna od liczby wymiarów danych.\n",
        "* Model oparty na maszynie wektorów nośnych znajdowuje minimum globalne. Minimalizowana jest funkcja kwadratowa co gwarantuje znalezienie minimum. Algorytm jest bardzo wydajny i SVM generuje prawie optymalny regresor. Nie jest tez czuły na przetrenowanie.\n",
        "* Trening modelu przebiega bardzo powoli, w szczególności trening modelu, którego jądro oparte jest o funkcje wielomianową i przy dużej ilości danych użytych do treningu.\n",
        "* Dane zebrane w postaci anonimowych ankiet nie stanowią idealnej reprezentacji. Uczniowie mogli wypełniać je subiektywnie, przez co nie oddawały one rzeczywistości i nie pozwoliłyby na dobrej jakości predykcje.\n",
        "* Cechy, jakimi posłużono się do opisu poszczególnych uczniów były niewystarczająco dokładne. Wiele atrybutów mogło przyjąć ograniczoną liczbę wartości w wąskim przedziale, co prowadziło do utraty informacji.\n",
        "* Dodatkowo budowe modelu komplikował fakt, że niektóre z atrybutów, które wykraczały w rzeczywistości za minimalną lub maksymalną skale, w jakiej atrybuty były reprezentowane, zostały przycięte do tej skali.\n",
        "* Dane dotyczą jedynie uczniów dwóch róznych liceów. Model ten nie posiada zastosowania do oszacowania spożycia alkoholu przez uczniów z innych regionów czy krajów."
      ]
    }
  ]
}